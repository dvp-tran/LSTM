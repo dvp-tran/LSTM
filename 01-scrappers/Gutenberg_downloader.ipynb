{
 "cells": [
  {
   "cell_type": "markdown",
   "metadata": {},
   "source": [
    "# Gutenberg e-books downloader"
   ]
  },
  {
   "cell_type": "markdown",
   "metadata": {},
   "source": [
    "----------------"
   ]
  },
  {
   "cell_type": "markdown",
   "metadata": {},
   "source": [
    "## Preliminaries"
   ]
  },
  {
   "cell_type": "markdown",
   "metadata": {},
   "source": [
    "Scraping eBooks from Gutenbergs web site isn't allowed anymore.\n",
    "Instead, chose a nearby mirror server http://www.gutenberg.org/MIRRORS.ALL ."
   ]
  },
  {
   "cell_type": "markdown",
   "metadata": {},
   "source": [
    "The program then fetches {MIRROR}/GUTINDEX.ZIP, which is the compressed book index.\n",
    "In this zip is a textfile called GUTINDEX.ALL, in it every eBook is listed starting on the beginning\n",
    "of a line, followed by lines of attributes:\n",
    "\n",
    "    Zur Psychopathologie des Alltagslebens, by Sigmund Freud                 24429\n",
    "      [Subtitle: Uber Vergessen, Versprechen, Vergreifen, Aberglaube und Irrtum]\n",
    "      [Language: German]\n",
    "    Hempfield, by David Grayson                                              33251\n",
    "     [Subtitle: A Novel]\n",
    "     [Illustrator: Thomas Fogarty]\n",
    "    De slavernij in Suriname, by Julien Wolbers                              31060\n",
    "     [Subtitle: of dezelfde gruwelen der slavernij, die in de 'Negerhut'\n",
    "      geschetst zijn, bestaan ook in onze West-Indische Kolonien]\n",
    "     [Language: Dutch]\n",
    "    De schipbreuk van de \"Berlin\" 21 Februari 1907, by Jean Louis Pisuisse   33254\n",
    "     [Subtitle: Volledig verhaal van de scheepsramp\n",
    "      aan den Hoek van Holland]\n",
    "     [Illustrator: Louis Raemaekers]\n",
    "     [Language: Dutch]"
   ]
  },
  {
   "cell_type": "markdown",
   "metadata": {},
   "source": [
    "The first line has a title and an eBook id number (\"De slavernij in Suriname, by J.W.  31060\").\n",
    "Now, where to find the eBook text 31060?\n",
    "For that, the program fetches {MIRROR}/ls-lR.gz, which contains the compressed directory & file index\n",
    "in a textfile called 'ls-lR'. It contains chunks like:\n",
    "\n",
    "    ./3/1/0/6/31060:\n",
    "    total 156\n",
    "    -rw-rw-r-- 1 gbnewby pg 77617 Jan 24  2010 31060-8.txt\n",
    "    -rw-rw-r-- 1 gbnewby pg 29926 Jan 24  2010 31060-8.zip\n",
    "    drwxrwxr-x 3 gbnewby pg  4096 Jan 24  2010 31060-h\n",
    "    -rw-rw-r-- 1 gbnewby pg 35794 Jan 24  2010 31060-h.zip"
   ]
  },
  {
   "cell_type": "markdown",
   "metadata": {},
   "source": [
    "- ### Import:"
   ]
  },
  {
   "cell_type": "code",
   "execution_count": 1,
   "metadata": {
    "collapsed": true
   },
   "outputs": [],
   "source": [
    "import urllib\n",
    "import re\n",
    "import os\n",
    "import zipfile\n",
    "import gzip\n",
    "import datetime\n",
    "import codecs\n",
    "import glob\n",
    "import shutil"
   ]
  },
  {
   "cell_type": "markdown",
   "metadata": {},
   "source": [
    "- ### Variables :"
   ]
  },
  {
   "cell_type": "code",
   "execution_count": 2,
   "metadata": {
    "collapsed": true
   },
   "outputs": [],
   "source": [
    "MIRROR = \"http://www.mirrorservice.org/sites/ftp.ibiblio.org/pub/docs/books/gutenberg/\"\n",
    "LANGUAGE = \"English\"\n",
    "limit=50"
   ]
  },
  {
   "cell_type": "markdown",
   "metadata": {},
   "source": [
    "- ### Define functions"
   ]
  },
  {
   "cell_type": "code",
   "execution_count": 3,
   "metadata": {
    "collapsed": true
   },
   "outputs": [],
   "source": [
    "def older(a, b):\n",
    "    '''Return True is file 'a' is older than file 'b'.'''\n",
    "    if not os.path.exists(a) or not os.path.exists(b):\n",
    "        return False\n",
    "    sta = os.stat(a)\n",
    "    stb = os.stat(b)\n",
    "    return sta <= stb\n",
    "\n",
    "\n",
    "def fetch(mirrorurl, filename, outputfilename):\n",
    "    '''Fetch a file from a gutenberg mirror, if it hasn't been fetched earlier today.'''\n",
    "    mustdownload = False\n",
    "    if os.path.exists(filename):\n",
    "        st = os.stat(filename)\n",
    "        modified = datetime.date.fromtimestamp(st.st_mtime)\n",
    "        today = datetime.date.today()\n",
    "        if modified == today:\n",
    "            print \"%s exists, and is up-to-date. No need to download it.\" % filename\n",
    "        else:\n",
    "            print \"%d exists, but is out of date. Downloading...\" % filename\n",
    "            mustdownload = True\n",
    "    else:\n",
    "        print \"%s not found, downloading...\" % filename\n",
    "        mustdownload = True\n",
    "\n",
    "    if mustdownload:\n",
    "        url = mirrorurl + filename\n",
    "        urllib.urlretrieve(url, outputfilename)"
   ]
  },
  {
   "cell_type": "markdown",
   "metadata": {},
   "source": [
    "- ### Creating paths"
   ]
  },
  {
   "cell_type": "code",
   "execution_count": 4,
   "metadata": {
    "collapsed": true
   },
   "outputs": [],
   "source": [
    "# Ensure directories exist.\n",
    "if not os.path.exists(\"../data/Gutenberg\"):\n",
    "    os.mkdir(\"../data/Gutenberg\")\n",
    "if not os.path.exists(\"../data/Gutenberg/indexes\"):\n",
    "    os.mkdir(\"../data/Gutenberg/indexes/\")\n",
    "\n",
    "if not os.path.exists(\"../data/Gutenberg/ebooks-zipped\"):\n",
    "    os.mkdir(\"../data/Gutenberg/ebooks-zipped/\")\n",
    "\n",
    "if not os.path.exists(\"../data/Gutenberg/ebooks-zipped/\"+LANGUAGE):\n",
    "    os.mkdir(\"../data/Gutenberg/ebooks-zipped/\"+LANGUAGE)\n",
    "    \n",
    "if not os.path.exists(\"../data/Gutenberg/ebooks-unzipped\"):\n",
    "    os.mkdir(\"../data/Gutenberg/ebooks-unzipped/\")\n",
    "\n",
    "if not os.path.exists(\"../data/Gutenberg/ebooks-unzipped/\"+LANGUAGE):\n",
    "    os.mkdir(\"../data/Gutenberg/ebooks-unzipped/\"+LANGUAGE)"
   ]
  },
  {
   "cell_type": "markdown",
   "metadata": {},
   "source": [
    "- ### Donwloading"
   ]
  },
  {
   "cell_type": "code",
   "execution_count": 5,
   "metadata": {
    "collapsed": false,
    "scrolled": true
   },
   "outputs": [
    {
     "name": "stdout",
     "output_type": "stream",
     "text": [
      "GUTINDEX.zip not found, downloading...\n",
      "ls-lR.gz not found, downloading...\n",
      "Parsing file index...\n",
      "Parsing book index...\n",
      "(0/54439) downloading ../data/Gutenberg/ebooks-zipped/English/1.zip...\n",
      "(1/54439) downloading ../data/Gutenberg/ebooks-zipped/English/2.zip...\n",
      "(2/54439) downloading ../data/Gutenberg/ebooks-zipped/English/3.zip...\n",
      "(3/54439) downloading ../data/Gutenberg/ebooks-zipped/English/4.zip...\n",
      "(4/54439) downloading ../data/Gutenberg/ebooks-zipped/English/5.zip...\n",
      "(5/54439) downloading ../data/Gutenberg/ebooks-zipped/English/6.zip...\n",
      "(6/54439) downloading ../data/Gutenberg/ebooks-zipped/English/7.zip...\n",
      "(7/54439) downloading ../data/Gutenberg/ebooks-zipped/English/8.zip...\n",
      "(8/54439) downloading ../data/Gutenberg/ebooks-zipped/English/9.zip...\n",
      "(9/54439) downloading ../data/Gutenberg/ebooks-zipped/English/10.zip...\n",
      "(10/54439) downloading ../data/Gutenberg/ebooks-zipped/English/11-0.zip...\n",
      "(11/54439) downloading ../data/Gutenberg/ebooks-zipped/English/12-0.zip...\n",
      "(12/54439) downloading ../data/Gutenberg/ebooks-zipped/English/13-0.zip...\n",
      "(13/54439) downloading ../data/Gutenberg/ebooks-zipped/English/14.zip...\n",
      "(14/54439) downloading ../data/Gutenberg/ebooks-zipped/English/15.zip...\n",
      "(15/54439) downloading ../data/Gutenberg/ebooks-zipped/English/16-0.zip...\n",
      "(16/54439) downloading ../data/Gutenberg/ebooks-zipped/English/17.zip...\n",
      "(17/54439) downloading ../data/Gutenberg/ebooks-zipped/English/18.zip...\n",
      "(18/54439) downloading ../data/Gutenberg/ebooks-zipped/English/19.zip...\n",
      "(19/54439) downloading ../data/Gutenberg/ebooks-zipped/English/20.zip...\n",
      "(20/54439) downloading ../data/Gutenberg/ebooks-zipped/English/21-0.zip...\n",
      "(21/54439) downloading ../data/Gutenberg/ebooks-zipped/English/22.zip...\n",
      "(22/54439) downloading ../data/Gutenberg/ebooks-zipped/English/23.zip...\n",
      "(23/54439) downloading ../data/Gutenberg/ebooks-zipped/English/24-0.zip...\n",
      "(24/54439) downloading ../data/Gutenberg/ebooks-zipped/English/25.zip...\n",
      "(25/54439) downloading ../data/Gutenberg/ebooks-zipped/English/26.zip...\n",
      "(26/54439) downloading ../data/Gutenberg/ebooks-zipped/English/27.zip...\n",
      "(27/54439) downloading ../data/Gutenberg/ebooks-zipped/English/28.zip...\n",
      "(28/54439) downloading ../data/Gutenberg/ebooks-zipped/English/29.zip...\n",
      "(29/54439) downloading ../data/Gutenberg/ebooks-zipped/English/30.zip...\n",
      "(30/54439) downloading ../data/Gutenberg/ebooks-zipped/English/31.zip...\n",
      "(31/54439) downloading ../data/Gutenberg/ebooks-zipped/English/32-0.zip...\n",
      "(32/54439) downloading ../data/Gutenberg/ebooks-zipped/English/33.zip...\n",
      "(33/54439) downloading ../data/Gutenberg/ebooks-zipped/English/34.zip...\n",
      "(34/54439) downloading ../data/Gutenberg/ebooks-zipped/English/35.zip...\n",
      "(35/54439) downloading ../data/Gutenberg/ebooks-zipped/English/36.zip...\n",
      "(36/54439) downloading ../data/Gutenberg/ebooks-zipped/English/37.zip...\n",
      "(37/54439) downloading ../data/Gutenberg/ebooks-zipped/English/38.zip...\n",
      "(38/54439) downloading ../data/Gutenberg/ebooks-zipped/English/39.zip...\n",
      "(40/54439) downloading ../data/Gutenberg/ebooks-zipped/English/41-0.zip...\n",
      "(41/54439) downloading ../data/Gutenberg/ebooks-zipped/English/42.zip...\n",
      "(42/54439) downloading ../data/Gutenberg/ebooks-zipped/English/43-0.zip...\n",
      "(43/54439) downloading ../data/Gutenberg/ebooks-zipped/English/44-0.zip...\n",
      "(44/54439) downloading ../data/Gutenberg/ebooks-zipped/English/45-0.zip...\n",
      "(45/54439) downloading ../data/Gutenberg/ebooks-zipped/English/46-8.zip...\n",
      "(46/54439) downloading ../data/Gutenberg/ebooks-zipped/English/47-0.zip...\n",
      "(47/54439) downloading ../data/Gutenberg/ebooks-zipped/English/48.zip...\n",
      "(48/54439) downloading ../data/Gutenberg/ebooks-zipped/English/49.zip...\n",
      "(49/54439) downloading ../data/Gutenberg/ebooks-zipped/English/50.zip...\n",
      "(50/54439) downloading ../data/Gutenberg/ebooks-zipped/English/51-0.zip...\n"
     ]
    }
   ],
   "source": [
    "# Download the book index, and unzip it.\n",
    "fetch(MIRROR, \"GUTINDEX.zip\", \"../data/Gutenberg/indexes/GUTINDEX.zip\")\n",
    "if not os.path.exists(\"../data/Gutenberg/indexes/GUTINDEX.ALL\") or older(\"../data/Gutenberg/indexes/GUTINDEX.ALL\",\n",
    "                                                                         \"../data/Gutenberg/indexes/GUTINDEX.zip\"):\n",
    "    print \"Extracting GUTINDEX.ALL from GUTINDEX.zip...\"\n",
    "    zipfile.ZipFile(\"../data/Gutenberg/indexes/GUTINDEX.zip\").extractall(\"../data/Gutenberg/indexes/\")\n",
    "\n",
    "\n",
    "# Download the file index, and gunzip it.\n",
    "fetch(MIRROR, \"ls-lR.gz\", \"../data/Gutenberg/indexes/ls-lR.gz\")\n",
    "if not os.path.exists(\"../data/Gutenberg/indexes/ls-lR\") or older(\"../data/Gutenberg/indexes/ls-lR\",\n",
    "                                                                  \"../data/Gutenberg/indexes/ls-lR.gz\"):\n",
    "    print \"Extracting ls-lR from ls-lR.gz...\"\n",
    "    inf = gzip.open(\"../data/Gutenberg/indexes/ls-lR.gz\", \"rb\")\n",
    "    outf = open(\"../data/Gutenberg/indexes/ls-lR\", \"wb\")\n",
    "    outf.write(inf.read())\n",
    "    inf.close()\n",
    "    outf.close()\n",
    "\n",
    "\n",
    "# Parse the file index\n",
    "print \"Parsing file index...\"\n",
    "mirrordir = {}\n",
    "mirrorname = {}\n",
    "re_txt0file = re.compile(r\".*? (\\d+\\-0\\.zip)\") # UTF-8 encoded (?)\n",
    "re_txt8file = re.compile(r\".*? (\\d+\\-8\\.zip)\") # latin-8 encoded (?)\n",
    "re_txtfile = re.compile(r\".*? (\\d+\\.zip)\") # ascii encoded \n",
    "for line in open(\"../data/Gutenberg/indexes/ls-lR\"):\n",
    "    if line.startswith(\"./\"):\n",
    "        line = line[2:].strip()\n",
    "        if line.endswith(\":\"):\n",
    "            line = line[:-1]\n",
    "        if line.endswith(\"old\") or \"-\" in line:\n",
    "            continue\n",
    "        lastseendir = line\n",
    "        continue\n",
    "    m = re_txt0file.match(line)\n",
    "    if not m:\n",
    "        m = re_txt8file.match(line)\n",
    "    if not m:\n",
    "        m = re_txtfile.match(line)\n",
    "    if m:\n",
    "        filename = m.groups()[0]\n",
    "        if \"-\" in filename: # For filenames like '12104-0.zip'.\n",
    "            nr, _ = filename.split(\"-\")\n",
    "        elif \".\" in filename: # For filenames like '32901.zip'.\n",
    "            nr, _ = filename.split(\".\")\n",
    "        else:\n",
    "            print \"Unexpected filename:\", filename\n",
    "        ebookno = int(nr)\n",
    "        if not ebookno in mirrordir:\n",
    "            mirrordir[ebookno] = lastseendir\n",
    "            mirrorname[ebookno] = filename\n",
    "\n",
    "\n",
    "# Parse the GUTINDEX.ALL file and extract all language-specific titles from it.\n",
    "print \"Parsing book index...\"\n",
    "inpreamble = True\n",
    "ebooks = {} # number -> title\n",
    "ebookslanguage = {} # number -> language\n",
    "ebookno = None\n",
    "nr = 0\n",
    "langre = re.compile(r\"\\[Language: (\\w+)\\]\")\n",
    "for line in codecs.open(\"../data/Gutenberg/indexes/GUTINDEX.ALL\", encoding=\"utf8\"):\n",
    "    line = line.replace(u\"\\xA0\", u\" \") # Convert non-breaking spaces to ordinary spaces.\n",
    "\n",
    "    if inpreamble: # Skip the explanation at the start of the file.\n",
    "        if \"TITLE and AUTHOR\" in line and \"ETEXT NO.\" in line:\n",
    "            inpreamble = False\n",
    "        else:\n",
    "            continue\n",
    "\n",
    "    if not line.strip():\n",
    "        continue # Ignore empty lines.\n",
    "\n",
    "    if line.startswith(\"<==End of GUTINDEX.ALL\"):\n",
    "        break # Done.\n",
    "\n",
    "    if line.startswith((u\" \", u\"\\t\", u\"[\")):\n",
    "        # Attribute line; see if it specifies the language.\n",
    "        m = langre.search(line)\n",
    "        if m:\n",
    "            language = m.group(1)\n",
    "            ebookslanguage[ebookno] = language\n",
    "    else:\n",
    "        # Possibly title line: \"The German Classics     51389\"\n",
    "        parts = line.strip().rsplit(\" \", 1)\n",
    "        if len(parts) < 2:\n",
    "            continue\n",
    "        title, ebookno = parts\n",
    "        title = title.strip()\n",
    "        try:\n",
    "            if ebookno.endswith((\"B\", \"C\")):\n",
    "                ebookno = ebookno[:-1]\n",
    "            ebookno = int(ebookno)\n",
    "            # It's a genuine title.\n",
    "            ebooks[ebookno] = title\n",
    "        except ValueError:\n",
    "            continue # Missing or invalid ebook number\n",
    "\n",
    "# Default language is English; mark every eBook which hasn't a language specified as English.\n",
    "for nr, title in ebooks.iteritems():\n",
    "    if not nr in ebookslanguage:\n",
    "        ebookslanguage[nr] = \"English\"\n",
    "\n",
    "if 0:\n",
    "    # Print report of found eBooks.\n",
    "    nr = 0\n",
    "    for ebookno in sorted(ebooks.keys()):\n",
    "        if ebookslanguage[ebookno] != LANGUAGE:\n",
    "            continue\n",
    "        titel = ebooks[ebookno].encode(\"ascii\", \"replace\")\n",
    "        filename = mirrorname.get(ebookno, \"UNKNOWN\")\n",
    "        filedir = mirrordir.get(ebookno, \"UNKNOWN\")\n",
    "        print \"%d. %s (%s in %s)\" % (ebookno, titel, filename, filedir)\n",
    "        nr += 1\n",
    "    print \"%d ebooks found for language %s\" % (nr, LANGUAGE)\n",
    "\n",
    "# Fetch the eBook zips.\n",
    "count=0\n",
    "for nr, ebookno in enumerate(sorted(ebooks.keys())):\n",
    "    if ebookslanguage[ebookno] != LANGUAGE: # Only fetch books for specified language.\n",
    "        continue\n",
    "    filedir = mirrordir.get(ebookno)\n",
    "    filename = mirrorname.get(ebookno)\n",
    "    if not filedir or not filename:\n",
    "        continue\n",
    "    url = MIRROR + filedir + \"/\" + filename\n",
    "    fn = os.path.join(\"../data/Gutenberg/ebooks-zipped/\"+LANGUAGE, filename)\n",
    "    if os.path.exists(fn):\n",
    "        print \"(%d/%d) %s exists, download not necessary\" % (nr, len(ebooks), fn)\n",
    "    else:\n",
    "        print \"(%d/%d) downloading %s...\" % (nr, len(ebooks), fn)\n",
    "        # Slow with FTP mirrors; prefer a HTTP mirror.\n",
    "        urllib.urlretrieve(url, fn)\n",
    "        count=count+1\n",
    "        if count>=limit:\n",
    "            break\n",
    "\n",
    "        # Fast, but requires external wget utility.\n",
    "        # cmd = \"wget -O %s %s\" % (fn, url)\n",
    "        # os.system(cmd)\n",
    "\n"
   ]
  },
  {
   "cell_type": "markdown",
   "metadata": {},
   "source": [
    "- ### Unzipping in target folder"
   ]
  },
  {
   "cell_type": "code",
   "execution_count": 6,
   "metadata": {
    "collapsed": false
   },
   "outputs": [
    {
     "name": "stdout",
     "output_type": "stream",
     "text": [
      "extracting ../data/Gutenberg/ebooks-zipped/English/16-0.zip\n",
      "extracting ../data/Gutenberg/ebooks-zipped/English/27.zip\n",
      "extracting ../data/Gutenberg/ebooks-zipped/English/34.zip\n",
      "extracting ../data/Gutenberg/ebooks-zipped/English/18.zip\n",
      "extracting ../data/Gutenberg/ebooks-zipped/English/46-8.zip\n",
      "extracting ../data/Gutenberg/ebooks-zipped/English/14.zip\n",
      "extracting ../data/Gutenberg/ebooks-zipped/English/10.zip\n",
      "extracting ../data/Gutenberg/ebooks-zipped/English/31.zip\n",
      "extracting ../data/Gutenberg/ebooks-zipped/English/32-0.zip\n",
      "extracting ../data/Gutenberg/ebooks-zipped/English/47-0.zip\n",
      "extracting ../data/Gutenberg/ebooks-zipped/English/43-0.zip\n",
      "extracting ../data/Gutenberg/ebooks-zipped/English/35.zip\n",
      "extracting ../data/Gutenberg/ebooks-zipped/English/2.zip\n",
      "extracting ../data/Gutenberg/ebooks-zipped/English/17.zip\n",
      "extracting ../data/Gutenberg/ebooks-zipped/English/48.zip\n",
      "extracting ../data/Gutenberg/ebooks-zipped/English/44-0.zip\n",
      "extracting ../data/Gutenberg/ebooks-zipped/English/6.zip\n",
      "extracting ../data/Gutenberg/ebooks-zipped/English/19.zip\n",
      "extracting ../data/Gutenberg/ebooks-zipped/English/7.zip\n",
      "extracting ../data/Gutenberg/ebooks-zipped/English/41-0.zip\n",
      "extracting ../data/Gutenberg/ebooks-zipped/English/39.zip\n",
      "extracting ../data/Gutenberg/ebooks-zipped/English/12-0.zip\n",
      "extracting ../data/Gutenberg/ebooks-zipped/English/37.zip\n",
      "extracting ../data/Gutenberg/ebooks-zipped/English/24-0.zip\n",
      "extracting ../data/Gutenberg/ebooks-zipped/English/15.zip\n",
      "extracting ../data/Gutenberg/ebooks-zipped/English/8.zip\n",
      "extracting ../data/Gutenberg/ebooks-zipped/English/51-0.zip\n",
      "extracting ../data/Gutenberg/ebooks-zipped/English/22.zip\n",
      "extracting ../data/Gutenberg/ebooks-zipped/English/26.zip\n",
      "extracting ../data/Gutenberg/ebooks-zipped/English/1.zip\n",
      "extracting ../data/Gutenberg/ebooks-zipped/English/50.zip\n",
      "extracting ../data/Gutenberg/ebooks-zipped/English/29.zip\n",
      "extracting ../data/Gutenberg/ebooks-zipped/English/30.zip\n",
      "extracting ../data/Gutenberg/ebooks-zipped/English/42.zip\n",
      "extracting ../data/Gutenberg/ebooks-zipped/English/36.zip\n",
      "extracting ../data/Gutenberg/ebooks-zipped/English/11-0.zip\n",
      "extracting ../data/Gutenberg/ebooks-zipped/English/3.zip\n",
      "extracting ../data/Gutenberg/ebooks-zipped/English/20.zip\n",
      "extracting ../data/Gutenberg/ebooks-zipped/English/28.zip\n",
      "extracting ../data/Gutenberg/ebooks-zipped/English/9.zip\n",
      "extracting ../data/Gutenberg/ebooks-zipped/English/45-0.zip\n",
      "extracting ../data/Gutenberg/ebooks-zipped/English/25.zip\n",
      "extracting ../data/Gutenberg/ebooks-zipped/English/23.zip\n",
      "extracting ../data/Gutenberg/ebooks-zipped/English/13-0.zip\n",
      "extracting ../data/Gutenberg/ebooks-zipped/English/49.zip\n",
      "extracting ../data/Gutenberg/ebooks-zipped/English/38.zip\n",
      "extracting ../data/Gutenberg/ebooks-zipped/English/21-0.zip\n",
      "extracting ../data/Gutenberg/ebooks-zipped/English/5.zip\n",
      "extracting ../data/Gutenberg/ebooks-zipped/English/33.zip\n",
      "extracting ../data/Gutenberg/ebooks-zipped/English/4.zip\n"
     ]
    }
   ],
   "source": [
    "# Unzip them.\n",
    "errors = []\n",
    "for fn in glob.glob(\"../data/Gutenberg/ebooks-zipped/\"+LANGUAGE+\"/*.zip\"):\n",
    "    print \"extracting\", fn\n",
    "    try:\n",
    "        zipfile.ZipFile(fn).extractall(\"../data/Gutenberg/ebooks-unzipped/\"+LANGUAGE)\n",
    "    except zipfile.BadZipfile:\n",
    "        errors.append(\"Error: can't unzip %s\" % fn) # Some files in the Gutenberg archive are damaged.\n",
    "\n",
    "# Some extracted files will end up in a subdirectory. Move them up into 'ebooks-unzipped' and remove the empty subdirectory.\n",
    "for dirn in glob.glob(\"../data/Gutenberg/ebooks-unzipped/\"+LANGUAGE+\"/*\"):\n",
    "    if os.path.isdir(dirn):\n",
    "        print \"moving\", dirn\n",
    "        for fn in glob.glob(os.path.join(dirn, \"*\")):\n",
    "            parts = fn.split(os.sep)\n",
    "            ofn = os.path.join(\"../data/Gutenberg/ebooks-unzipped/\"+LANGUAGE, parts[-1])\n",
    "            if os.path.exists(ofn):\n",
    "                os.unlink(ofn)\n",
    "            shutil.move(fn, \"../data/Gutenberg/ebooks-unzipped/\"+LANGUAGE)\n",
    "        os.rmdir(dirn)\n",
    "\n",
    "if errors:\n",
    "    print \"Errors:\"\n",
    "    for error in errors:\n",
    "        print error\n"
   ]
  }
 ],
 "metadata": {
  "kernelspec": {
   "display_name": "Python 2",
   "language": "python",
   "name": "python2"
  },
  "language_info": {
   "codemirror_mode": {
    "name": "ipython",
    "version": 2
   },
   "file_extension": ".py",
   "mimetype": "text/x-python",
   "name": "python",
   "nbconvert_exporter": "python",
   "pygments_lexer": "ipython2",
   "version": "2.7.13"
  }
 },
 "nbformat": 4,
 "nbformat_minor": 1
}

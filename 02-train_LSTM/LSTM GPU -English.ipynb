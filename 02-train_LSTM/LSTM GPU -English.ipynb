{
 "cells": [
  {
   "cell_type": "markdown",
   "metadata": {},
   "source": [
    "# LSTM"
   ]
  },
  {
   "cell_type": "markdown",
   "metadata": {},
   "source": [
    "- ## Preliminaries"
   ]
  },
  {
   "cell_type": "markdown",
   "metadata": {},
   "source": []
  },
  {
   "cell_type": "markdown",
   "metadata": {},
   "source": [
    "- ### Imports"
   ]
  },
  {
   "cell_type": "code",
   "execution_count": 18,
   "metadata": {
    "collapsed": true
   },
   "outputs": [],
   "source": [
    "from __future__ import print_function\n",
    "from keras.models import Sequential\n",
    "from keras.layers import Dense, Activation,Dropout,TimeDistributed\n",
    "from keras.layers import LSTM,SimpleRNN\n",
    "from keras.optimizers import RMSprop\n",
    "from keras.utils.data_utils import get_file\n",
    "import numpy as np\n",
    "import random\n",
    "import sys\n",
    "import os, os.path\n",
    "from os import listdir\n",
    "from os.path import isfile, join\n",
    "from unicodedata import normalize\n",
    "import re"
   ]
  },
  {
   "cell_type": "markdown",
   "metadata": {
    "collapsed": true
   },
   "source": [
    "- ### Check GPU usage"
   ]
  },
  {
   "cell_type": "code",
   "execution_count": 19,
   "metadata": {
    "collapsed": true
   },
   "outputs": [],
   "source": [
    "from tensorflow.python.client import device_lib\n",
    "\n",
    "def get_available_gpus():\n",
    "    local_device_protos = device_lib.list_local_devices()\n",
    "    return [x.name for x in local_device_protos if x.device_type == 'GPU']"
   ]
  },
  {
   "cell_type": "code",
   "execution_count": 20,
   "metadata": {},
   "outputs": [
    {
     "data": {
      "text/plain": [
       "[u'/gpu:0']"
      ]
     },
     "execution_count": 20,
     "metadata": {},
     "output_type": "execute_result"
    }
   ],
   "source": [
    "get_available_gpus()"
   ]
  },
  {
   "cell_type": "markdown",
   "metadata": {},
   "source": [
    "----------"
   ]
  },
  {
   "cell_type": "markdown",
   "metadata": {},
   "source": [
    "- ### Check and set Twitter's API"
   ]
  },
  {
   "cell_type": "code",
   "execution_count": 21,
   "metadata": {
    "collapsed": true
   },
   "outputs": [],
   "source": [
    "import twitter\n",
    "api = twitter.Api(consumer_key='LyNVanTEQEOEGKfXAMeLv6AKG',\n",
    "                    consumer_secret='0lJvhaaOP5cRZWm6rxwyBIAypd1P7eiDx9f74KBDlLrSldNuBQ',\n",
    "                    access_token_key='855852332034265088-geTEVmA7xIsOD3WCZyfBNnqjRdS1MhW',\n",
    "                    access_token_secret='kJMwMl67e3nYrqaGWzIizxzQpRZhtBfOnwPflO1fk3cOt')"
   ]
  },
  {
   "cell_type": "code",
   "execution_count": 22,
   "metadata": {},
   "outputs": [
    {
     "name": "stdout",
     "output_type": "stream",
     "text": [
      "{\"created_at\": \"Sat Apr 22 18:34:31 +0000 2017\", \"default_profile\": true, \"description\": \"Learning how to be creative\", \"followers_count\": 2, \"friends_count\": 1, \"id\": 855852332034265088, \"lang\": \"en\", \"location\": \"Somewhere in the cloud\", \"name\": \"ArtistBot\", \"profile_background_color\": \"F5F8FA\", \"profile_banner_url\": \"https://pbs.twimg.com/profile_banners/855852332034265088/1492892354\", \"profile_image_url\": \"http://pbs.twimg.com/profile_images/855878764143804417/r55Z2Js5_normal.jpg\", \"profile_link_color\": \"1DA1F2\", \"profile_sidebar_fill_color\": \"DDEEF6\", \"profile_text_color\": \"333333\", \"screen_name\": \"TheTalkativeBot\", \"status\": {\"created_at\": \"Fri Apr 28 00:17:34 +0000 2017\", \"id\": 857750603602300928, \"id_str\": \"857750603602300928\", \"in_reply_to_screen_name\": \"dvp_tran\", \"in_reply_to_status_id\": 857750118941982720, \"in_reply_to_user_id\": 747074580754403328, \"lang\": \"en\", \"media\": [{\"display_url\": \"pic.twitter.com/pOxEzRXkrx\", \"expanded_url\": \"https://twitter.com/TheTalkativeBot/status/857750603602300928/photo/1\", \"id\": 857750599911301120, \"media_url\": \"http://pbs.twimg.com/media/C-dXoEWXYAAeHJa.jpg\", \"media_url_https\": \"https://pbs.twimg.com/media/C-dXoEWXYAAeHJa.jpg\", \"sizes\": {\"large\": {\"h\": 1200, \"resize\": \"fit\", \"w\": 900}, \"medium\": {\"h\": 1200, \"resize\": \"fit\", \"w\": 900}, \"small\": {\"h\": 680, \"resize\": \"fit\", \"w\": 510}, \"thumb\": {\"h\": 150, \"resize\": \"crop\", \"w\": 150}}, \"type\": \"photo\", \"url\": \"https://t.co/pOxEzRXkrx\"}], \"source\": \"<a href=\\\"http://www.google.com\\\" rel=\\\"nofollow\\\">TheScenarioBot</a>\", \"text\": \"@dvp_tran Here what's your picture evokes to me ! https://t.co/pOxEzRXkrx\"}, \"statuses_count\": 43}\n"
     ]
    }
   ],
   "source": [
    "print(api.VerifyCredentials())"
   ]
  },
  {
   "cell_type": "raw",
   "metadata": {
    "collapsed": true
   },
   "source": [
    "api.PostUpdate(\"Today I am learning German, watch me improve! ;) \")"
   ]
  },
  {
   "cell_type": "markdown",
   "metadata": {},
   "source": [
    "-------------------"
   ]
  },
  {
   "cell_type": "markdown",
   "metadata": {},
   "source": [
    "# I. Learning from corpus"
   ]
  },
  {
   "cell_type": "markdown",
   "metadata": {},
   "source": [
    "** 1. Load and convert data**"
   ]
  },
  {
   "cell_type": "markdown",
   "metadata": {},
   "source": [
    "'''Example script to generate text from Nietzsche's writings.\n",
    "At least 20 epochs are required before the generated text\n",
    "starts sounding coherent.\n",
    "It is recommended to run this script on GPU, as recurrent\n",
    "networks are quite computationally intensive.\n",
    "If you try this script on new data, make sure your corpus\n",
    "has at least ~100k characters. ~1M is better.\n",
    "'''"
   ]
  },
  {
   "cell_type": "code",
   "execution_count": 23,
   "metadata": {},
   "outputs": [
    {
     "name": "stdout",
     "output_type": "stream",
     "text": [
      "Done concatenating file : 21-0.txt\n",
      "Done concatenating file : 28.txt\n",
      "Done concatenating file : 18.txt\n",
      "Done concatenating file : 13-0.txt\n",
      "Done concatenating file : 16-0.txt\n",
      "Done concatenating file : 51-0.txt\n",
      "Done concatenating file : 30.txt\n",
      "Done concatenating file : 20.txt\n",
      "Done concatenating file : 46-8.txt\n",
      "Done concatenating file : 50.txt\n"
     ]
    }
   ],
   "source": [
    "#Load and concatenate files:\n",
    "\n",
    "DIR=\"../../LSTM/data/Gutenberg/ebooks-unzipped/English/\"\n",
    "all_files = [f for f in listdir(DIR) if isfile(join(DIR, f))]\n",
    "\n",
    "#choose how many files to concatenate:\n",
    "nb_files=10\n",
    "if nb_files>len(all_files):\n",
    "    nb_files=len(all_files)\n",
    "    \n",
    "    \n",
    "out_path=\"english/data/\"\n",
    "if not os.path.exists(out_path):\n",
    "    os.makedirs(out_path)\n",
    "if not os.path.exists(out_path+\"input/\"):\n",
    "    os.makedirs(out_path+\"input/\")\n",
    "    \n",
    "with open(out_path+'input/english.txt', 'w') as outfile:\n",
    "    for fname in all_files[0:nb_files]:\n",
    "        with open(DIR+fname) as infile:\n",
    "            i=0\n",
    "            for line in infile:\n",
    "                if i>=50:\n",
    "                    outfile.write(line)\n",
    "                i=i+1\n",
    "        print (\"Done concatenating file : %s\" %fname)"
   ]
  },
  {
   "cell_type": "code",
   "execution_count": 24,
   "metadata": {},
   "outputs": [
    {
     "data": {
      "text/plain": [
       "'../../LSTM/data/Gutenberg/ebooks-unzipped/English/'"
      ]
     },
     "execution_count": 24,
     "metadata": {},
     "output_type": "execute_result"
    }
   ],
   "source": [
    "\"../../LSTM/data/Gutenberg/ebooks-unzipped/English/\""
   ]
  },
  {
   "cell_type": "code",
   "execution_count": 25,
   "metadata": {
    "collapsed": true
   },
   "outputs": [],
   "source": [
    "#load file\n",
    "file_name=out_path+'input/english.txt'\n",
    "text = open(file_name).read()\n",
    "text=normalize('NFKD',text.decode('latin1')).encode('ASCII', 'ignore')"
   ]
  },
  {
   "cell_type": "code",
   "execution_count": 26,
   "metadata": {
    "collapsed": true
   },
   "outputs": [],
   "source": [
    "#text = text.replace(to_delete,\"\").replace('Digitized by',\"\").replace('Google',\"\") \n",
    "text = re.sub(\"\\n\\n+\" , \"\\n\", text)"
   ]
  },
  {
   "cell_type": "code",
   "execution_count": 27,
   "metadata": {},
   "outputs": [
    {
     "name": "stdout",
     "output_type": "stream",
     "text": [
      "corpus length: 9670571\n",
      "total chars: 87\n"
     ]
    }
   ],
   "source": [
    "print('corpus length:', len(text))\n",
    "\n",
    "chars = sorted(list(set(text)))\n",
    "VOCAB_SIZE = len(chars)\n",
    "print('total chars:',VOCAB_SIZE)"
   ]
  },
  {
   "cell_type": "markdown",
   "metadata": {},
   "source": [
    "**Warning:** The RNN takes in input numerical data hence the necessity to convert strings into numerical values."
   ]
  },
  {
   "cell_type": "code",
   "execution_count": 28,
   "metadata": {
    "collapsed": true
   },
   "outputs": [],
   "source": [
    "#creating mapping between indexes and characters\n",
    "char_indices = dict((c, i) for i, c in enumerate(chars))\n",
    "indices_char = dict((i, c) for i, c in enumerate(chars))"
   ]
  },
  {
   "cell_type": "markdown",
   "metadata": {},
   "source": [
    "We’re gonna use Keras to create and train our Network, so we must convert the data into this form: (number_of_sequences, length_of_sequence, number_of_features).\n",
    "- nb of features = length of the char array\n",
    "- length of sequence = batch size\n",
    "- nb of sequence = len(data) divided by batch size.\n",
    "\n",
    "**Warning : ** target sequence is setted by shifting the source/input sequence by one character with both having the same length."
   ]
  },
  {
   "cell_type": "code",
   "execution_count": 29,
   "metadata": {},
   "outputs": [
    {
     "name": "stdout",
     "output_type": "stream",
     "text": [
      "CPU times: user 10.7 s, sys: 3.08 s, total: 13.8 s\n",
      "Wall time: 13.7 s\n"
     ]
    }
   ],
   "source": [
    "%%time\n",
    "\n",
    "#original sequence length : 100\n",
    "\n",
    "SEQ_LENGTH=50\n",
    "#Build three dimensional arrays\n",
    "X = np.zeros((len(text)/SEQ_LENGTH, SEQ_LENGTH, VOCAB_SIZE)) #input\n",
    "y = np.zeros((len(text)/SEQ_LENGTH, SEQ_LENGTH, VOCAB_SIZE)) #target\n",
    "\n",
    "#Build sequences\n",
    "for i in range(0, len(text)/SEQ_LENGTH):\n",
    "    X_sequence = text[i*SEQ_LENGTH:(i+1)*SEQ_LENGTH]\n",
    "    X_sequence_ix = [char_indices[value] for value in X_sequence]\n",
    "    input_sequence = np.zeros((SEQ_LENGTH, VOCAB_SIZE))\n",
    "    for j in range(SEQ_LENGTH):\n",
    "        input_sequence[j][X_sequence_ix[j]] = 1.\n",
    "    X[i] = input_sequence\n",
    "\n",
    "    y_sequence = text[i*SEQ_LENGTH+1:(i+1)*SEQ_LENGTH+1]\n",
    "    y_sequence_ix = [char_indices[value] for value in y_sequence]\n",
    "    target_sequence = np.zeros((SEQ_LENGTH, VOCAB_SIZE))\n",
    "    for j in range(SEQ_LENGTH):\n",
    "        target_sequence[j][y_sequence_ix[j]] = 1.\n",
    "    y[i] = target_sequence"
   ]
  },
  {
   "cell_type": "markdown",
   "metadata": {},
   "source": [
    "** 2. Build the network**"
   ]
  },
  {
   "cell_type": "code",
   "execution_count": 30,
   "metadata": {
    "collapsed": true
   },
   "outputs": [],
   "source": [
    "HIDDEN_DIM= 500 #500\n",
    "LAYER_NUM = 2\n",
    "\n",
    "\n",
    "model = Sequential()\n",
    "model.add(LSTM(HIDDEN_DIM, input_shape=(None, VOCAB_SIZE), return_sequences=True))\n",
    "for i in range(LAYER_NUM - 1):\n",
    "    model.add(LSTM(HIDDEN_DIM, return_sequences=True))\n",
    "model.add(TimeDistributed(Dense(VOCAB_SIZE)))\n",
    "model.add(Activation('softmax'))\n",
    "model.compile(loss=\"categorical_crossentropy\", optimizer=\"rmsprop\")"
   ]
  },
  {
   "cell_type": "code",
   "execution_count": 31,
   "metadata": {
    "collapsed": true
   },
   "outputs": [],
   "source": [
    "def generate_text(model, length, vocab_size, ix_to_char):\n",
    "    # starting with random character\n",
    "    ix = [np.random.randint(vocab_size)]\n",
    "    y_char = [ix_to_char[ix[-1]]]\n",
    "    X = np.zeros((1, length, vocab_size))\n",
    "    for i in range(length):\n",
    "        # appending the last predicted character to sequence\n",
    "        X[0, i, :][ix[-1]] = 1\n",
    "        print(ix_to_char[ix[-1]], end=\"\")\n",
    "        ix = np.argmax(model.predict(X[:, :i+1, :])[0], 1)\n",
    "        y_char.append(ix_to_char[ix[-1]])\n",
    "    return ('').join(y_char)"
   ]
  },
  {
   "cell_type": "code",
   "execution_count": 32,
   "metadata": {
    "scrolled": false
   },
   "outputs": [
    {
     "name": "stdout",
     "output_type": "stream",
     "text": [
      "?&((AQQILccTTT((QQTcTrQccTrpppppssppfff0008880088hhhh((((Htt]]c]]aa]a]a]a122]aae1//////$$$VVV$$VVE"
     ]
    }
   ],
   "source": [
    "# Generate some sample before training to know how bad it is!\n",
    "bla = generate_text(model, 100, VOCAB_SIZE, indices_char)\n",
    "#api.PostUpdate(status=bla[0:123])"
   ]
  },
  {
   "cell_type": "markdown",
   "metadata": {},
   "source": [
    "**3. Train network**"
   ]
  },
  {
   "cell_type": "markdown",
   "metadata": {},
   "source": [
    "** Note :**\n",
    "- batch_size of 400 combined with a seq_len of 500 gets OOM\n",
    "- batch_size of 400 combined with a seq_len of 400 pass epoch at : 299s\n",
    "- batch_size of 100 combined with a seq_len of 100 pass epoch at : 400s\n",
    "- batch_size of 400 combined with a seq_len of 200 pass epoch at : 267s\n",
    "- batch_size of 400 combined with a seq_len of 100 pass epoch at : 262s\n",
    "- batch_size of 500 combined with a seq_len of 100 pass epoch at : 251s\n",
    "\n",
    "here is an interesting post : https://stats.stackexchange.com/questions/164876/tradeoff-batch-size-vs-number-of-iterations-to-train-a-neural-network"
   ]
  },
  {
   "cell_type": "code",
   "execution_count": null,
   "metadata": {
    "collapsed": true
   },
   "outputs": [],
   "source": []
  },
  {
   "cell_type": "code",
   "execution_count": 33,
   "metadata": {
    "collapsed": true
   },
   "outputs": [],
   "source": [
    "def get_iternb(string):\n",
    "    return re.findall(r'checkpoint_500_epoch_(.*).hdf5', string)[0]"
   ]
  },
  {
   "cell_type": "code",
   "execution_count": 34,
   "metadata": {
    "scrolled": false
   },
   "outputs": [
    {
     "name": "stdout",
     "output_type": "stream",
     "text": [
      "Checkpoints : ['checkpoint_500_epoch_530.hdf5']\n",
      "1\n",
      "Checkpoint english/data/weights/weight_attempt_s02/checkpoint_500_epoch_530.hdf5 loaded successfuly!\n",
      "Starting at iteration : 530\n",
      "\n",
      "\n",
      "--------------------\n",
      "Epoch 1/1\n",
      "249s - loss: 1.0658\n",
      "RD hath sworn to me;\n",
      "\n",
      "02:022:003 And swallowed their eyes, and take and gathered themselves together\n",
      "           into the city, and that w\n",
      "\n",
      "--------------------\n",
      "Epoch 1/1\n",
      "249s - loss: 1.0155\n",
      "7 7633862516 0261977745 8029788818 7937778663\n",
      "1786689435 5927357211 6181698721 6941703210 8901036241 16366666753\n",
      "8437904800 9902558476 693\n",
      "\n",
      "--------------------\n",
      "Epoch 1/1\n",
      "249s - loss: 0.9849\n",
      "and the men of Israel were all that go away the cart it out through the deserts\n",
      "           that was with him in the temple, crucify side th\n",
      "\n",
      "--------------------\n",
      "Epoch 1/1\n",
      "249s - loss: 0.9634\n",
      "Ye shall not eat of the house of Jacob, and will bring upon them the treasures of\n",
      "           the kings of the earth.\n",
      "\n",
      "24:044:006 And the \n",
      "\n",
      "--------------------\n",
      "Epoch 1/1\n",
      "249s - loss: 0.9470\n",
      ")\n",
      "\n",
      "JAHIN and ALT NATIONS, cannot be supposed to be invested with\n",
      "the support of an army for any more than an elective magistracy and judi\n",
      "\n",
      "--------------------\n",
      "Epoch 1/1\n",
      "249s - loss: 0.9349\n",
      "           the children of Israel smote them from the house of the LORD,\n",
      "           and came unto them to the hand of his father's house:\n",
      "\n",
      "\n",
      "--------------------\n",
      "Epoch 1/1\n",
      "249s - loss: 0.9251\n",
      "]\n",
      "\n",
      "[Footnote 109  Hagron.\n",
      "\n",
      "\n",
      "\n",
      "\n",
      "FEDERALIST No. 25\n",
      "\n",
      "\n",
      "\n",
      "The Same Subjective non, that it will be proper\n",
      "\n",
      "to the people in the partic\n",
      "\n",
      "--------------------\n",
      "Epoch 1/1\n",
      "249s - loss: 0.9166\n",
      "D thy God doth magnify yourselves there for us.\n",
      "\n",
      "26:026:015 So the meat offering which king Solomon had an issue of child begat Abaziah th\n",
      "\n",
      "--------------------\n",
      "Epoch 1/1\n",
      "249s - loss: 0.9102\n",
      "ing the Spirit of God in his sight\n",
      "           one way of his own soul.\n",
      "\n",
      "18:024:004 They despised the person your children, that they may \n",
      "\n",
      "--------------------\n",
      "Epoch 1/1\n",
      "249s - loss: 0.9042\n",
      "judgment, a very loss to the other.\n",
      "\n",
      "This unity may be destroyed in two ways of competent name and the people of\n",
      "\n",
      "the United States. Thi\n",
      "\n",
      "Iteration nb : 540\n",
      "\n",
      "\n",
      "--------------------\n",
      "Epoch 1/1\n",
      "249s - loss: 0.8993\n",
      "\n",
      "           the LORD hath sent me to Joppa the princes of Israel, saith the LORD, and to\n",
      "           the souls that sent unto me, saying,\n",
      "\n",
      "\n",
      "--------------------\n",
      "Epoch 1/1\n",
      "249s - loss: 0.8949\n",
      "For the LORD hath said unto thee, This is the word is of the\n",
      "           LORD.\n",
      "\n",
      "10:009:003 And the LORD said unto me, Out of the land of E\n",
      "\n",
      "--------------------\n",
      "Epoch 1/1\n",
      "249s - loss: 0.8911\n",
      "-the votation of the State legislatures, will be entitled to\n",
      "consider a moderate or sanction to the States the power of the\n",
      "legislative de\n",
      "\n",
      "--------------------\n",
      "Epoch 1/1\n",
      "249s - loss: 0.8876\n",
      "24:006:018 And the first father and the children of Shallum, the sons of the Danites\n",
      "           Caunpashus the son of Nethaniah went forth \n",
      "\n",
      "--------------------\n",
      "Epoch 1/1\n",
      "249s - loss: 0.8845\n",
      "r the sons of Kohath; Urioth of Anari, and Jozadad, the family of the\n",
      "           Korathite, and the Midianites, and the Hittites, and the P\n",
      "\n",
      "--------------------\n",
      "Epoch 1/1\n",
      "249s - loss: 0.8816\n",
      "xperienced and Present government.\n",
      "\n",
      "Saint named A.S. and the Foundation as compliance with this agreement, you know what the\n",
      "competition \n",
      "\n",
      "--------------------\n",
      "Epoch 1/1\n",
      "249s - loss: 0.8791\n",
      "8 7094669004 5600770423 4381980311 1774185558\n",
      "7855330714 7150785657 9855300618 2769583700 9656503325\n",
      "0057815944 6480664659 0364584489 4077\n",
      "\n",
      "--------------------\n",
      "Epoch 1/1\n",
      "249s - loss: 0.8765\n",
      "D thy God shall bless thee in all thy works.\n",
      "\n",
      "19:119:077 I am as far off, and the LORD hath given it to me; for the riches are dead with t\n",
      "\n",
      "--------------------\n",
      "Epoch 1/1\n",
      "249s - loss: 0.8743\n",
      "When the children of Israel went after them over the\n",
      "           counsel of Ahithophel the Tizzaheiel; Mashi, and Shenazeh, Sheraiah, and Je\n",
      "\n",
      "--------------------\n",
      "Epoch 1/1\n",
      "249s - loss: 0.8723\n",
      "?\n",
      "\n",
      "24:016:021 Therefore as I lift up our head, and take the ark of the LORD which is perhapted in\n",
      "           the faith.\n",
      "\n",
      "48:005:014 For\n",
      "\n",
      "Iteration nb : 550\n",
      "\n",
      "\n",
      "--------------------\n",
      "Epoch 1/1\n",
      "249s - loss: 0.8705\n",
      "$\n",
      "14:006:002 And the LORD said unto Satar, saying, The fathers shall not go out before the LORD our\n",
      "           God, and hath broken my cove\n",
      "\n",
      "--------------------\n",
      "Epoch 1/1\n",
      "249s - loss: 0.8685\n",
      "ut the representatives of the people, or the\n",
      "more the case, the power of controversy be confined to the State\n",
      "governments the most constru\n",
      "\n",
      "--------------------\n",
      "Epoch 1/1\n",
      "249s - loss: 0.8665\n",
      "on the morrow, when Simon Peter saw the\n",
      "           chaste very far away the second and found hiss.\n",
      "\n",
      "01:031:013 And Abimelech said, The LO\n",
      "\n",
      "--------------------\n",
      "Epoch 1/1\n",
      "249s - loss: 0.8651\n",
      "re the LORD in Gilgal; and they were not in\n",
      "           Jerusalem.\n",
      "\n",
      "15:002:006 And the children of Israel said unto him, Where is he that \n",
      "\n",
      "--------------------\n",
      "Epoch 1/1\n",
      "249s - loss: 0.8636\n",
      "ll be spread abroad to the LORD thy God.\n",
      "\n",
      "05:027:010 And it shall be, if thou wilt hearken unto the priest, and I will be their God.\n",
      "\n",
      "26\n",
      "\n",
      "--------------------\n",
      "Epoch 1/1\n",
      "249s - loss: 0.8621\n",
      "5 5555300164 6468400398\n",
      "3283232682 9991827097 7296295234 6088228805 0070403563\n",
      "5750002499 3009067036 3333811890 7937086666 7119638203\n",
      "111\n",
      "\n",
      "--------------------\n",
      "Epoch 1/1\n",
      "249s - loss: 0.8607\n",
      "$\n",
      "14:006:008 And the sons of Reuben the firstborn of Israel, the children of Gazz, as Kabzanad, and\n",
      "           Shaalbue heard it.\n",
      "\n",
      "11:022\n",
      "\n",
      "--------------------\n",
      "Epoch 1/1\n",
      "249s - loss: 0.8596\n",
      "& If you are unfit one by one, to with me, and make comfortable soul. I think I\n",
      "can do be the security of the public councils and men who h\n",
      "\n",
      "--------------------\n",
      "Epoch 1/1\n",
      "249s - loss: 0.8583\n",
      "\n",
      "           the LORD hath commanded.\n",
      "\n",
      "01:039:003 And the LORD God shall sell the heathen, and thy son's son rise up against the\n",
      "         \n",
      "\n",
      "--------------------\n",
      "Epoch 1/1\n",
      "249s - loss: 0.8570\n",
      "\" said Scrooge, \"I am not the situation\n",
      "would not doubt it were not to be asked, If I had returned me for it, I wonat\n",
      "one another usele in\n",
      "\n",
      "Iteration nb : 560\n",
      "\n",
      "\n",
      "--------------------\n",
      "Epoch 1/1\n",
      "249s - loss: 0.8558\n",
      "]\n",
      "\n",
      "[Footnote 16: To Romans 2. THE MICH PEOLAL saferd at\n",
      "the first success of its power in the several court, in the society in the\n",
      "Senat\n",
      "\n",
      "--------------------\n",
      "Epoch 1/1\n",
      "249s - loss: 0.8545\n",
      "]\n",
      "\n",
      "[Footnote 18:05' down a big low plump on her knees, but enquired at last,\n",
      "so he was the tole of a huge brow of the two visits of the U\n",
      "\n",
      "--------------------\n",
      "Epoch 1/1\n",
      "249s - loss: 0.8537\n",
      "****\n",
      "This and all associated files of various formats will be found in any degree of\n",
      "necessity, because it is not less injustice against t\n",
      "\n",
      "--------------------\n",
      "Epoch 1/1\n",
      "249s - loss: 0.8526\n",
      "f the LORD shall be able to do the word of God.\n",
      "\n",
      "01:009:010 And the LORD God said unto the man of God, Intreat him, and keep him, and\n",
      "   \n",
      "\n",
      "--------------------\n",
      "Epoch 1/1\n",
      "249s - loss: 0.8516\n",
      "d the son of Joze, the son of Zeruiah,\n",
      "\n",
      "16:012:033 And his brother Ahi for the king, Ah, had rise, and the spices of the kings of\n",
      "       \n",
      "\n",
      "--------------------\n",
      "Epoch 1/1\n",
      "249s - loss: 0.8506\n",
      "# Six hundred thousand choice, to go to compass on their own land.\n",
      "\n",
      "27:002:011 And there was a great disciple who there should be one Ard \n",
      "\n",
      "--------------------\n",
      "Epoch 1/1\n",
      "249s - loss: 0.8495\n",
      "RD hath not spoken.\n",
      "\n",
      "26:022:028 Therefore thou shalt say thou with all gentlemen, I will not agree to him, and\n",
      "           that he may be \n",
      "\n",
      "--------------------\n",
      "Epoch 1/1\n",
      "249s - loss: 0.8491\n",
      "God shall destroy them.\n",
      "\n",
      "24:015:010 I have heard the sound of the Lord, and he shall receive me, and he shall surely\n",
      "           come and \n",
      "\n",
      "--------------------\n",
      "Epoch 1/1\n",
      "249s - loss: 0.8479\n",
      "Constitution in the government of the\n",
      "\n",
      "United States, and of the most absolute principles of a free\n",
      "\n",
      "government. But in a limication of \n",
      "\n",
      "--------------------\n",
      "Epoch 1/1\n",
      "249s - loss: 0.8473\n",
      "in the earth.\n",
      "\n",
      "01:003:017 And he said, Whethen he and thy daughters which are seen, then will I go into this\n",
      "           womb.\n",
      "\n",
      "02:003:0\n",
      "\n",
      "Iteration nb : 570\n",
      "\n",
      "\n",
      "--------------------\n",
      "Epoch 1/1\n",
      "249s - loss: 0.8461\n",
      "ke a dream that I will send a few months of her\n",
      "           mouth, and set the face of the streets, and the houses be made.\n",
      "\n",
      "10:001:005 An\n",
      "\n",
      "--------------------\n",
      "Epoch 1/1\n",
      "249s - loss: 0.8453\n",
      "with the Holy Ghost, and the first loose.\n",
      "\n",
      "41:012:059 For he was an hungred, and said, This is God have we hieth to his father, and\n",
      "     \n",
      "\n",
      "--------------------\n",
      "Epoch 1/1\n",
      "249s - loss: 0.8448\n",
      "'s seed shall go out to deliver him, and have devoured him: but\n",
      "           God caught us out of the towne, and his angels were shaken with \n",
      "\n",
      "--------------------\n",
      "Epoch 1/1\n",
      "249s - loss: 0.8440\n",
      "; and they shall cleave in the light, and it be\n",
      "           bound with a sword in his hand: and they shall say unto him, The LORD God of you\n",
      "\n",
      "--------------------\n",
      "Epoch 1/1\n",
      "249s - loss: 0.8433\n",
      "unto the stranger, the same shall be\n",
      "           taken away from the sea.\n",
      "\n",
      "20:008:010 She dwelleth with the strong holds of the seas, to g\n",
      "\n",
      "--------------------\n",
      "Epoch 1/1\n",
      "249s - loss: 0.8424\n",
      "Ye shall not eat of any of thy sons that where is her husband.\n",
      "\n",
      "18:028:014 It is a servant of his saints; he shall come up out of the pit,\n",
      "\n",
      "--------------------\n",
      "Epoch 1/1\n",
      "249s - loss: 0.8418\n",
      "e the same time.\n",
      "\n",
      "46:015:021 There is one God, which is the father of the damsel, and the mountains were before the\n",
      "           excellency\n",
      "\n",
      "--------------------\n",
      "Epoch 1/1\n",
      "249s - loss: 0.8410\n",
      "\" said Scrooge, \"and then I sapose\n",
      "it with an open showed similar better.a\n",
      "\n",
      "aYes. Isnat it worth like a mong to heare!n he said nightly.\n",
      "\n",
      "--------------------\n",
      "Epoch 1/1\n",
      "248s - loss: 0.8403\n",
      "& If you wonat be rich to tell?a\n",
      "shining Gilbert. But Anne had gone ago.aX\n",
      "\n",
      "aAk in angels. Do you know how ever. But I couldnat see my fa\n",
      "\n",
      "--------------------\n",
      "Epoch 1/1\n",
      "249s - loss: 0.8395\n",
      "!\"\n",
      "\n",
      "He reckoned to her about eight office. The Monkeyas commanded Mrs. Godgie\n",
      "nover the strangers which had once she kept the pause, and \n",
      "\n",
      "Iteration nb : 580\n",
      "\n",
      "\n",
      "--------------------\n",
      "Epoch 1/1\n",
      "248s - loss: 0.8389\n",
      "our state's life are the race\n",
      "\n",
      "A PLENXT VINGLENG BUT Ye36ENT OF CERSOLOL, to provide for the\n",
      "\n",
      "point which will be more in their own must\n",
      "\n",
      "--------------------\n",
      "Epoch 1/1\n",
      "249s - loss: 0.8384\n",
      "$\n",
      "14:006:008 And the LORD spake unto Moses, saying,\n",
      "\n",
      "04:031:002 And the LORD said unto my sons, How long will ye speak unto thee, that the\n",
      "\n",
      "--------------------\n",
      "Epoch 1/1\n",
      "248s - loss: 0.8376\n",
      "           the children of Israel shall be king over them, to morrow\n",
      "           ye in his hand against the people.\n",
      "\n",
      "07:002:008 And the ch\n",
      "\n",
      "--------------------\n",
      "Epoch 1/1\n",
      "248s - loss: 0.8370\n",
      "God of Israel, saith the LORD the Kenic.\n",
      "\n",
      "26:042:004 Snat unto thee, that they may be placed afterward with them, and shall be as\n",
      "       \n",
      "\n",
      "--------------------\n",
      "Epoch 1/1\n",
      "248s - loss: 0.8365\n",
      "61 2965707726 2058376609 6083482343\n",
      "0555880606 5983154496 1127134417 2353188866 99973755844\n",
      "5326366404 1497936277 9617765847 7620229331 29\n",
      "\n",
      "--------------------\n",
      "Epoch 1/1\n",
      "249s - loss: 0.8360\n",
      "Zebadiah, Michaiah the son of Shaphat,\n",
      "           the Uzziveite, and with her suburbs,\n",
      "\n",
      "13:006:068 And the sons of Shamrah; Romoth, the s\n",
      "\n",
      "--------------------\n",
      "Epoch 1/1\n",
      "249s - loss: 0.8356\n",
      "Project Gutenberg-tm works in compliance with the sentence set forth in\n",
      "the country which has been mentioned that \"would appear the species\n",
      "\n",
      "--------------------\n",
      "Epoch 1/1\n",
      "249s - loss: 0.8350\n",
      "ing the words are to me and the Chemoth Executive and judiciary\n",
      "\n",
      "departments. The constitution of New York stood by the complexity of powe\n",
      "\n",
      "--------------------\n",
      "Epoch 1/1\n",
      "249s - loss: 0.8346\n",
      "peration would still be exemplified in the same personal\n",
      "agency which would not be expected to represent the same as to be expected\n",
      "in the\n",
      "\n",
      "--------------------\n",
      "Epoch 1/1\n",
      "249s - loss: 0.8341\n",
      "And the king of Airon was of the LORD, to make an atonement for him, and over\n",
      "           his right face.\n",
      "\n",
      "01:041:019 And Joseph said unto\n",
      "\n",
      "Iteration nb : 590\n",
      "\n",
      "\n",
      "--------------------\n",
      "Epoch 1/1\n",
      "249s - loss: 0.8333\n",
      "           the LORD of hosts, the God of Israel; Behold, I will bring evil upon this\n",
      "           place, and the money that was upon the two \n",
      "\n",
      "--------------------\n",
      "Epoch 1/1\n",
      "249s - loss: 0.8331\n",
      "%  (Natha, the first of the Second Dan ercempered the next day, and he seized him throughout the\n",
      "seraches.\n",
      "\n",
      "One brooked schoolmaas for a \n",
      "\n",
      "--------------------\n",
      "Epoch 1/1\n",
      "249s - loss: 0.8324\n",
      "were they were still there.\n",
      "\n",
      "24:038:019 And I will make the prison which thou takest out of Zion, to go unto the land which\n",
      "           I \n",
      "\n",
      "--------------------\n",
      "Epoch 1/1\n",
      "248s - loss: 0.8319\n",
      "ject Gutenberg-tm electronic works in your possession.\n",
      "If you paid a fee for obtaining a copy of or access to a Project\n",
      "Gutenberg-tm elect\n",
      "\n",
      "--------------------\n",
      "Epoch 1/1\n",
      "249s - loss: 0.8316\n",
      "The springs of the south side of the field, when he had brought\n",
      "           away from us: for of the LORD GOD your God will I give the land.\n",
      "\n",
      "--------------------\n",
      "Epoch 1/1\n",
      "248s - loss: 0.8311\n",
      "\n",
      "           the LORD had shut up his hand, and went on his way.\n",
      "\n",
      "42:019:016 And he said unto him, What is thy voice, that I should be my \n",
      "\n",
      "--------------------\n",
      "Epoch 1/1\n",
      "249s - loss: 0.8309\n",
      "8 1467246634 3557785790\n",
      "0686433364 7725407375 4295294690 0334566415 0940264995\n",
      "6655155370 6116394127 2348354990 5559485537 2307564913\n",
      "311\n",
      "\n",
      "--------------------\n",
      "Epoch 1/1\n",
      "249s - loss: 0.8299\n",
      "ing the proper or republics, or two thirds of the States\n",
      "which has been mentioned, the same effect an officers to partly dispute\n",
      "instances\n",
      "\n",
      "--------------------\n",
      "Epoch 1/1\n",
      "249s - loss: 0.8300\n",
      "So the LORD commanded me all these words, and said unto me, Son, the\n",
      "           children of Eden where the LORD hath afflicted me.\n",
      "\n",
      "19:11\n",
      "\n",
      "--------------------\n",
      "Epoch 1/1\n",
      "249s - loss: 0.8294\n",
      "Manasseh his son reigned in his stead.\n",
      "\n",
      "11:016:002 And it came to pass, when the prince shall be there in the field, that the city was aba\n",
      "\n",
      "Iteration nb : 600\n",
      "Stopping...\n"
     ]
    }
   ],
   "source": [
    "#batch size equals to seq length here\n",
    "BATCH_SIZE=500 #100 slower and #>450 gets OOM\n",
    "#len of desired output\n",
    "GENERATE_LENGTH=140\n",
    "DIR=out_path+\"weights/weight_attempt_s02/\"\n",
    "flag=True\n",
    "\n",
    "try:\n",
    "    onlyfiles = [f for f in listdir(DIR) if isfile(join(DIR, f))]\n",
    "    nb_files = len(onlyfiles)\n",
    "    print(\"Checkpoints : %s\" %onlyfiles)\n",
    "    iteration=[]\n",
    "    for files in onlyfiles:\n",
    "        iteration.append(int(get_iternb(files)))\n",
    "    iteration=max(iteration)\n",
    "\n",
    "    last_checkpoint=DIR+onlyfiles[0][0:21]+str(iteration)+'.hdf5'\n",
    "except Exception as e:\n",
    "    print(e)\n",
    "    onlyfiles=[]\n",
    "    if not os.path.exists(DIR):\n",
    "        os.makedirs(DIR)\n",
    "    nb_files=0\n",
    "\n",
    "    \n",
    "print(nb_files)\n",
    "if nb_files>0:\n",
    "    model.load_weights(last_checkpoint)\n",
    "    print(\"Checkpoint %s loaded successfuly!\" % last_checkpoint)\n",
    "else:\n",
    "    iteration=0\n",
    "    \n",
    "print(\"Starting at iteration : %s\" %iteration)\n",
    "while flag==True:\n",
    "    print('\\n')\n",
    "    print('-'*20)\n",
    "    model.fit(X, y, batch_size=BATCH_SIZE, verbose=2, nb_epoch=1)\n",
    "    iteration += 1\n",
    "    bla=generate_text(model, GENERATE_LENGTH,VOCAB_SIZE, indices_char)\n",
    "    if iteration % 10 == 0:\n",
    "        print(\"\\n\\nIteration nb : %s\" %iteration)\n",
    "        #api.PostUpdate(status=bla[0:123])\n",
    "        model.save_weights(DIR+'checkpoint_{}_epoch_{}.hdf5'.format(HIDDEN_DIM, iteration))\n",
    "        #remove unecessary files:\n",
    "        for files in onlyfiles:\n",
    "            try:\n",
    "                if files:\n",
    "                    os.remove(DIR+files)\n",
    "            except:\n",
    "                pass\n",
    "        onlyfiles = [f for f in listdir(DIR) if isfile(join(DIR, f))]\n",
    "\n",
    "    if iteration>=600:\n",
    "        print(\"Stopping...\")\n",
    "        flag=False"
   ]
  },
  {
   "cell_type": "markdown",
   "metadata": {},
   "source": [
    "**4. Generate text**"
   ]
  },
  {
   "cell_type": "code",
   "execution_count": 35,
   "metadata": {
    "collapsed": true
   },
   "outputs": [],
   "source": [
    "def save_text(model, length, vocab_size, ix_to_char):\n",
    "    # starting with random character\n",
    "    ix = [np.random.randint(vocab_size)]\n",
    "    y_char = [ix_to_char[ix[-1]]]\n",
    "    X = np.zeros((1, length, vocab_size))\n",
    "    for i in range(length):\n",
    "        # appending the last predicted character to sequence\n",
    "        X[0, i, :][ix[-1]] = 1\n",
    "        print(ix_to_char[ix[-1]], end=\"\")\n",
    "        ix = np.argmax(model.predict(X[:, :i+1, :])[0], 1)\n",
    "        y_char.append(ix_to_char[ix[-1]])\n",
    "    if not os.path.exists(out_path+\"generate/\"):\n",
    "        os.makedirs(out_path+\"generate/\")\n",
    "    with open(out_path+\"generate/output.txt\",\"w\") as f:\n",
    "        f.write(('').join(y_char))\n",
    "    return ('').join(y_char)\n"
   ]
  },
  {
   "cell_type": "code",
   "execution_count": 36,
   "metadata": {
    "collapsed": true
   },
   "outputs": [],
   "source": [
    "#seed with particular text:\n",
    "def generate_text_seeded(model,seed,length, vocab_size, ix_to_char):\n",
    "    # starting with random character\n",
    "    # char_indices\n",
    "    ix = [char_indices[x] for x in seed]\n",
    "    y_char = [x for x in seed]\n",
    "    X = np.zeros((1, length, vocab_size))\n",
    "    for i in range(len(ix)) :\n",
    "        X[0, i, :][ix[i]] = 1\n",
    "        print(ix_to_char[ix[i]], end=\"\")\n",
    "    to_substract = len(ix)\n",
    "    for i in range(length-to_substract):\n",
    "        # appending the last predicted character to sequence\n",
    "        X[0, i, :][ix[-1]] = 1\n",
    "        print(ix_to_char[ix[-1]], end=\"\")\n",
    "        ix = np.argmax(model.predict(X[:, :i+1, :])[0], 1)\n",
    "        y_char.append(ix_to_char[ix[-1]])\n",
    "    return ('').join(y_char)"
   ]
  },
  {
   "cell_type": "code",
   "execution_count": 37,
   "metadata": {},
   "outputs": [
    {
     "name": "stdout",
     "output_type": "stream",
     "text": [
      "Who is god?  herne earlashall be a man, that ye may know how that\n",
      "           God well with thee, come thou? And he said, Unto Hesaboah: and offer it at the first\n",
      "           cities, and upon his heads, and was buried in Samaria into the temple of Ramshronia, and\n",
      "           the Levites after him Gera, and Shimei.\n",
      "\n",
      "01:014:014 And the sons of Seir, and Caleb's brother, which were born the people that was in the\n",
      "           coupling of the court of the countries: and the priest shall take all the wise men, behold, am\n",
      "           nothing in his sight.\n",
      "\n",
      "14:025:018 And as he passed by, his father Eliasaphar, and Nergaim might not be three enter in out of\n",
      "           the land of Egypt.\n",
      "\n",
      "02:007:001 And the LORD said unto Joshua, Fear not: for I am with thee, saith the Lord GOD.\n",
      "\n",
      "26:032:001 Be thou plain the brighterX of life and plents of gold in the house of the LORD, and\n",
      "           that day shall be a praise, and be thou laid with him.\n",
      "\n",
      "02:025:016 And thou shalt put it before the"
     ]
    },
    {
     "data": {
      "text/plain": [
       "u\"Who is god? herne earlashall be a man, that ye may know how that\\r\\n           God well with thee, come thou? And he said, Unto Hesaboah: and offer it at the first\\r\\n           cities, and upon his heads, and was buried in Samaria into the temple of Ramshronia, and\\r\\n           the Levites after him Gera, and Shimei.\\r\\n\\r\\n01:014:014 And the sons of Seir, and Caleb's brother, which were born the people that was in the\\r\\n           coupling of the court of the countries: and the priest shall take all the wise men, behold, am\\r\\n           nothing in his sight.\\r\\n\\r\\n14:025:018 And as he passed by, his father Eliasaphar, and Nergaim might not be three enter in out of\\r\\n           the land of Egypt.\\r\\n\\r\\n02:007:001 And the LORD said unto Joshua, Fear not: for I am with thee, saith the Lord GOD.\\r\\n\\r\\n26:032:001 Be thou plain the brighterX of life and plents of gold in the house of the LORD, and\\r\\n           that day shall be a praise, and be thou laid with him.\\r\\n\\r\\n02:025:016 And thou shalt put it before the \""
      ]
     },
     "execution_count": 37,
     "metadata": {},
     "output_type": "execute_result"
    }
   ],
   "source": [
    "generate_text_seeded(model,normalize('NFKD',\"Who is god? \".decode('latin1')), 1000, VOCAB_SIZE, indices_char)"
   ]
  },
  {
   "cell_type": "code",
   "execution_count": 38,
   "metadata": {
    "scrolled": true
   },
   "outputs": [
    {
     "name": "stdout",
     "output_type": "stream",
     "text": [
      "# Six hundred thousand chosen men, whom the LORD called unto him, and said,\n",
      "           Belteshazzan, Manasseh, and Aria, and Manasseh, and Shimeah, and Zerah. And the sons of\n",
      "           Shephatiah the son of Asael, the son of Amariah,\n",
      "\n",
      "13:024:004 They shall be a tine of the river Aethrard, and from the mountains of Ammon, and from the desert of the\n",
      "           wicked; and the spirit of a man hath not been entered into the sea.\n",
      "\n",
      "46:015:050 But if a man have an end, or of a shearing, and that with a noise with the bow\n",
      "           shall be forgiven unto men: but the first day of the week shall be burnt in the\n",
      "           steps.\n",
      "\n",
      "23:031:011 Then shall the land tempts the sea, than that soul shall be cut off from the\n",
      "           face of the earth.\n",
      "\n",
      "19:037:031 Among my people were confing, that thou mayest call my people Israel, and they\n",
      "           shall deal treacherously with thee in all things.\n",
      "\n",
      "42:012:020 And they that hated me her womb-four chamber and with the sword shall be blessed: for he worketh\n",
      "           all that he hath declared to be done again: he shall seek for a meat offering,\n",
      "           and a little one is for the sin offering.\n",
      "\n",
      "03:006:008 And he shall break it in the place whither he shall choose: because the priest the king\n",
      "           of Naomin kings.\n",
      "\n",
      "23:028:011 Send the people away, and a great nation shall be glorious in the things which are\n",
      "           able to deliver the sin of the seas.\n",
      "\n",
      "20:011:019 She shall see the pledge of the streeCPU times: user 11min 59s, sys: 0 ns, total: 11min 59s\n",
      "Wall time: 11min 49s\n"
     ]
    }
   ],
   "source": [
    "%%time\n",
    "out = save_text(model, 1500, VOCAB_SIZE, indices_char)"
   ]
  }
 ],
 "metadata": {
  "kernelspec": {
   "display_name": "Python 2",
   "language": "python",
   "name": "python2"
  },
  "language_info": {
   "codemirror_mode": {
    "name": "ipython",
    "version": 2
   },
   "file_extension": ".py",
   "mimetype": "text/x-python",
   "name": "python",
   "nbconvert_exporter": "python",
   "pygments_lexer": "ipython2",
   "version": "2.7.13"
  }
 },
 "nbformat": 4,
 "nbformat_minor": 2
}

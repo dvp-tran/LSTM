{
 "cells": [
  {
   "cell_type": "markdown",
   "metadata": {},
   "source": [
    "# Twitter bot"
   ]
  },
  {
   "cell_type": "markdown",
   "metadata": {},
   "source": [
    "--------"
   ]
  },
  {
   "cell_type": "markdown",
   "metadata": {},
   "source": [
    "## Preliminaries"
   ]
  },
  {
   "cell_type": "markdown",
   "metadata": {},
   "source": [
    "- ### Import"
   ]
  },
  {
   "cell_type": "code",
   "execution_count": null,
   "metadata": {},
   "outputs": [],
   "source": [
    "import twitter\n",
    "%matplotlib inline\n",
    "import matplotlib.pyplot as plt\n",
    "import matplotlib.image as mpimg\n",
    "import os, os.path\n",
    "from os import listdir\n",
    "from os.path import isfile, join\n",
    "import urllib2\n",
    "import time"
   ]
  },
  {
   "cell_type": "markdown",
   "metadata": {},
   "source": [
    "- ### Credentials"
   ]
  },
  {
   "cell_type": "code",
   "execution_count": null,
   "metadata": {},
   "outputs": [],
   "source": [
    "#Credentials\n",
    "api = twitter.Api(consumer_key='LyNVanTEQEOEGKfXAMeLv6AKG',\n",
    "                    consumer_secret='0lJvhaaOP5cRZWm6rxwyBIAypd1P7eiDx9f74KBDlLrSldNuBQ',\n",
    "                    access_token_key='855852332034265088-geTEVmA7xIsOD3WCZyfBNnqjRdS1MhW',\n",
    "                    access_token_secret='kJMwMl67e3nYrqaGWzIizxzQpRZhtBfOnwPflO1fk3cOt')"
   ]
  },
  {
   "cell_type": "code",
   "execution_count": null,
   "metadata": {},
   "outputs": [],
   "source": [
    "print(api.VerifyCredentials())"
   ]
  },
  {
   "cell_type": "markdown",
   "metadata": {},
   "source": [
    "## I. Bot sniffing"
   ]
  },
  {
   "cell_type": "code",
   "execution_count": null,
   "metadata": {},
   "outputs": [],
   "source": [
    "# api.GetReplies(count=50)"
   ]
  },
  {
   "cell_type": "code",
   "execution_count": null,
   "metadata": {
    "scrolled": true
   },
   "outputs": [],
   "source": [
    "# api.GetUserTimeline(exclude_replies=False)"
   ]
  },
  {
   "cell_type": "code",
   "execution_count": null,
   "metadata": {
    "scrolled": true
   },
   "outputs": [],
   "source": [
    "#get latest message\n",
    "timeline=api.GetHomeTimeline()"
   ]
  },
  {
   "cell_type": "code",
   "execution_count": null,
   "metadata": {},
   "outputs": [],
   "source": [
    "def get_timeline(count):\n",
    "    timeline=api.GetHomeTimeline(count=count)\n",
    "    return timeline\n",
    "\n",
    "\n",
    "def get_media_reply(timeline, last=True):\n",
    "    for statuses in timeline:\n",
    "        if statuses.media and statuses.user.screen_name!=u'TheTalkativeBot':\n",
    "            index=statuses.id\n",
    "            user_name=statuses.user.screen_name\n",
    "            media_url=statuses.media[0].media_url\n",
    "            status_text=status.text\n",
    "            if last==True:\n",
    "                break\n",
    "    return index,user_name,media_url,status_text\n",
    "\n",
    "def save_media(media_url):\n",
    "    DIR=\"images/\"\n",
    "    try:\n",
    "        onlyfiles = [f for f in listdir(DIR) if isfile(join(DIR, f))]\n",
    "        nb_files = len(onlyfiles)\n",
    "    except Exception as e:\n",
    "        print(e)\n",
    "        if not os.path.exists(DIR):\n",
    "            os.makedirs(DIR)\n",
    "        nb_files=0\n",
    "    img = urllib2.urlopen(media_url)\n",
    "        \n",
    "    with open(\"images/%s.jpg\" %(nb_files+1), 'wb') as f:\n",
    "        f.write(img.read())\n",
    "    img=mpimg.imread(\"images/%s.jpg\" %(nb_files+1))    \n",
    "    plt.imshow(img)\n",
    "    return"
   ]
  },
  {
   "cell_type": "raw",
   "metadata": {},
   "source": [
    "#to send mail\n",
    "api.PostDirectMessage(\"De rien\",screen_name=\"dvp_tran\")"
   ]
  },
  {
   "cell_type": "markdown",
   "metadata": {},
   "source": [
    "## II. Post media"
   ]
  },
  {
   "cell_type": "raw",
   "metadata": {},
   "source": [
    "api.PostMedia(status, media, possibly_sensitive=None, in_reply_to_status_id=None, latitude=None, longitude=None, place_id=None, display_coordinates=False)[source]\n",
    "Post a twitter status message from the user with a picture attached.\n",
    "\n",
    "Parameters:\t\n",
    "status – the text of your update\n",
    "media – This can be the location of media(PNG, JPG, GIF) on the local file system or at an HTTP URL, it can also be a file-like object\n",
    "possibly_sensitive – set true if content is “advanced.” [Optional]\n",
    "in_reply_to_status_id – ID of a status that this is in reply to. [Optional]\n",
    "lat – latitude of location. [Optional]\n",
    "long – longitude of location. [Optional]\n",
    "place_id – A place in the world identified by a Twitter place ID. [Optional]\n",
    "display_coordinates – Set true if you want to display coordinates. [Optional]\n",
    "Returns – A twitter.Status instance representing the message posted."
   ]
  },
  {
   "cell_type": "raw",
   "metadata": {},
   "source": [
    "#to send mail\n",
    "api.PostDirectMessage(\"De rien\",screen_name=\"dvp_tran\")"
   ]
  },
  {
   "cell_type": "code",
   "execution_count": null,
   "metadata": {},
   "outputs": [],
   "source": [
    "def auto_answer():\n",
    "    flag=True\n",
    "    i=0\n",
    "    while flag==True:\n",
    "        try:\n",
    "            time.sleep(10)\n",
    "            timeline=get_timeline(3)\n",
    "            status_id,user,media_url,status_text = get_media_reply(timeline,last=True)\n",
    "            if not os.path.exists('images/list/'):\n",
    "                os.makedirs('images/list/')\n",
    "            with open('images/list/list.txt','r') as f:\n",
    "                text = f.read()\n",
    "            text=text.split(\"\\n\")\n",
    "\n",
    "\n",
    "            if media_url not in text:\n",
    "                with open('images/list/list.txt', \"a\") as f:\n",
    "                    f.write(media_url+\"\\n\")\n",
    "                save_media(media_url)\n",
    "                api.PostUpdate(\"Automate answer !\", media=None, media_additional_owners=None, media_category=None,\n",
    "                       in_reply_to_status_id=status_id, auto_populate_reply_metadata=True,\n",
    "                       exclude_reply_user_ids=None, latitude=None, longitude=None, place_id=None,\n",
    "                       display_coordinates=False, trim_user=False, verify_status_length=True, attachment_url=None)\n",
    "                print(\"Status id : %s, answered.\" %status_id)\n",
    "            i=i+1\n",
    "            time.sleep(60)\n",
    "            if i==10:\n",
    "                flag=False\n",
    "                \n",
    "        except Exception as e:\n",
    "            if \"Rate limit exceeded\" in str(e):\n",
    "                print(\"Sleeping  because of rate limit.\")\n",
    "                time.sleep(60)\n",
    "    return"
   ]
  },
  {
   "cell_type": "code",
   "execution_count": null,
   "metadata": {},
   "outputs": [],
   "source": [
    "auto_answer()"
   ]
  },
  {
   "cell_type": "code",
   "execution_count": null,
   "metadata": {
    "collapsed": true
   },
   "outputs": [],
   "source": [
    "#Answering to a post\n",
    "api.PostUpdate(\"Thanks !\", media=None, media_additional_owners=None, media_category=None,\n",
    "               in_reply_to_status_id=856439298903732224, auto_populate_reply_metadata=True,\n",
    "               exclude_reply_user_ids=None, latitude=None, longitude=None, place_id=None,\n",
    "               display_coordinates=False, trim_user=False, verify_status_length=True, attachment_url=None)"
   ]
  }
 ],
 "metadata": {
  "kernelspec": {
   "display_name": "Python 2",
   "language": "python",
   "name": "python2"
  },
  "language_info": {
   "codemirror_mode": {
    "name": "ipython",
    "version": 2
   },
   "file_extension": ".py",
   "mimetype": "text/x-python",
   "name": "python",
   "nbconvert_exporter": "python",
   "pygments_lexer": "ipython2",
   "version": "2.7.13"
  }
 },
 "nbformat": 4,
 "nbformat_minor": 2
}

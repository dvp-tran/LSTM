{
 "cells": [
  {
   "cell_type": "code",
   "execution_count": 1,
   "metadata": {
    "collapsed": false
   },
   "outputs": [
    {
     "name": "stdout",
     "output_type": "stream",
     "text": [
      "{\"created_at\": \"Sat Apr 22 18:34:31 +0000 2017\", \"default_profile\": true, \"description\": \"Learning how to be creative\", \"followers_count\": 2, \"friends_count\": 1, \"id\": 855852332034265088, \"lang\": \"en\", \"location\": \"Somewhere in the cloud\", \"name\": \"ArtistBot\", \"profile_background_color\": \"F5F8FA\", \"profile_banner_url\": \"https://pbs.twimg.com/profile_banners/855852332034265088/1492892354\", \"profile_image_url\": \"http://pbs.twimg.com/profile_images/855878764143804417/r55Z2Js5_normal.jpg\", \"profile_link_color\": \"1DA1F2\", \"profile_sidebar_fill_color\": \"DDEEF6\", \"profile_text_color\": \"333333\", \"screen_name\": \"TheTalkativeBot\", \"status\": {\"created_at\": \"Fri Apr 28 01:08:14 +0000 2017\", \"id\": 857763351560151040, \"id_str\": \"857763351560151040\", \"in_reply_to_screen_name\": \"dvp_tran\", \"in_reply_to_status_id\": 857761164280856577, \"in_reply_to_user_id\": 747074580754403328, \"lang\": \"en\", \"media\": [{\"display_url\": \"pic.twitter.com/aUNRUmLysG\", \"expanded_url\": \"https://twitter.com/TheTalkativeBot/status/857763351560151040/photo/1\", \"id\": 857763348594790401, \"media_url\": \"http://pbs.twimg.com/media/C-djOI5XkAE0-yW.jpg\", \"media_url_https\": \"https://pbs.twimg.com/media/C-djOI5XkAE0-yW.jpg\", \"sizes\": {\"large\": {\"h\": 1200, \"resize\": \"fit\", \"w\": 900}, \"medium\": {\"h\": 1200, \"resize\": \"fit\", \"w\": 900}, \"small\": {\"h\": 680, \"resize\": \"fit\", \"w\": 510}, \"thumb\": {\"h\": 150, \"resize\": \"crop\", \"w\": 150}}, \"type\": \"photo\", \"url\": \"https://t.co/aUNRUmLysG\"}], \"source\": \"<a href=\\\"http://www.google.com\\\" rel=\\\"nofollow\\\">TheScenarioBot</a>\", \"text\": \"@dvp_tran Here what's your picture evokes to me ! https://t.co/aUNRUmLysG\"}, \"statuses_count\": 45}\n"
     ]
    }
   ],
   "source": [
    "from twitter_bot import *"
   ]
  },
  {
   "cell_type": "code",
   "execution_count": 2,
   "metadata": {
    "collapsed": false
   },
   "outputs": [
    {
     "name": "stdout",
     "output_type": "stream",
     "text": [
      "Iteration : 0\n",
      "Image saved at : ../data/images/30.jpg.\n",
      "Image Captionning...\n",
      "\ta dog is running through a field of green grass .\n",
      "\n",
      "\t Translation in fr :un chien est en cours d'execution a travers un champ d'herbe verte. !\n",
      "Dreaming...\n",
      "In french :\n",
      "un chien est en cours d'execution a travers un champ d'herbe verte.. detots, dort usimeiseuA  fortensenthA autiensquine paus\n",
      "billoutu que, pour table, mais je vous assure que cette fois, ma tante\n",
      "qui se fatachA, car s'il ne lui manquera pas, s'il avait sonnA, si elle avait\n",
      "dAchirAe dans l'expA rit, de leur inindatif, une lettre\n",
      "qu'il vivait inAal, ont AtA arrAatAment l'atmosphA re de cette\n",
      "apparition A  des orapes d'eaux noms qui mentiA res, fit troup par le\n",
      "semblable. Les disques embrassament s'allessent A \n",
      "l'effet une verture par une puissante salle et ci.... indercoutris et comme\n",
      "mon pautre mAme. Tu as A  cette question que le terre?A--Oui\n",
      "qui donnait la Lune en montre, dans l'attour d'un\n",
      "Done drawing answer!\n",
      "Answer-image drawn and saved at :../data/output/30.jpg!\n"
     ]
    },
    {
     "name": "stderr",
     "output_type": "stream",
     "text": [
      "/home/paul/anaconda2/lib/python2.7/site-packages/PIL/JpegImagePlugin.py:593: DeprecationWarning: You are saving RGBA image as JPEG. The alpha channel will be discarded. This conversion is deprecated and will be disabled in Pillow 3.7. Please, convert the image to RGB explicitly.\n",
      "  DeprecationWarning\n"
     ]
    },
    {
     "name": "stdout",
     "output_type": "stream",
     "text": [
      "Answer sent!\n",
      "Status id : 857761164280856577, answered.\n",
      "Image flagged for no further repetition.\n"
     ]
    },
    {
     "ename": "KeyboardInterrupt",
     "evalue": "",
     "output_type": "error",
     "traceback": [
      "\u001b[0;31m---------------------------------------\u001b[0m",
      "\u001b[0;31mKeyboardInterrupt\u001b[0mTraceback (most recent call last)",
      "\u001b[0;32m<ipython-input-2-f522747eac3b>\u001b[0m in \u001b[0;36m<module>\u001b[0;34m()\u001b[0m\n\u001b[0;32m----> 1\u001b[0;31m \u001b[0mauto_answer\u001b[0m\u001b[0;34m(\u001b[0m\u001b[0;34m)\u001b[0m\u001b[0;34m\u001b[0m\u001b[0m\n\u001b[0m",
      "\u001b[0;32m/home/paul/Git_Repository/Data_Science/ENSAE/Projet_Python/LSTM/src/twitter_bot.py\u001b[0m in \u001b[0;36mauto_answer\u001b[0;34m()\u001b[0m\n\u001b[1;32m    110\u001b[0m                 \u001b[0;32mprint\u001b[0m\u001b[0;34m(\u001b[0m\u001b[0;34m\"Image flagged for no further repetition.\"\u001b[0m\u001b[0;34m)\u001b[0m\u001b[0;34m\u001b[0m\u001b[0m\n\u001b[1;32m    111\u001b[0m \u001b[0;34m\u001b[0m\u001b[0m\n\u001b[0;32m--> 112\u001b[0;31m                 \u001b[0mtime\u001b[0m\u001b[0;34m.\u001b[0m\u001b[0msleep\u001b[0m\u001b[0;34m(\u001b[0m\u001b[0;36m60\u001b[0m\u001b[0;34m)\u001b[0m\u001b[0;34m\u001b[0m\u001b[0m\n\u001b[0m\u001b[1;32m    113\u001b[0m             \u001b[0mi\u001b[0m\u001b[0;34m=\u001b[0m\u001b[0mi\u001b[0m\u001b[0;34m+\u001b[0m\u001b[0;36m1\u001b[0m\u001b[0;34m\u001b[0m\u001b[0m\n\u001b[1;32m    114\u001b[0m             \u001b[0mtime\u001b[0m\u001b[0;34m.\u001b[0m\u001b[0msleep\u001b[0m\u001b[0;34m(\u001b[0m\u001b[0;36m60\u001b[0m\u001b[0;34m)\u001b[0m\u001b[0;34m\u001b[0m\u001b[0m\n",
      "\u001b[0;31mKeyboardInterrupt\u001b[0m: "
     ]
    }
   ],
   "source": [
    "auto_answer()"
   ]
  }
 ],
 "metadata": {
  "kernelspec": {
   "display_name": "Python 2",
   "language": "python",
   "name": "python2"
  },
  "language_info": {
   "codemirror_mode": {
    "name": "ipython",
    "version": 2
   },
   "file_extension": ".py",
   "mimetype": "text/x-python",
   "name": "python",
   "nbconvert_exporter": "python",
   "pygments_lexer": "ipython2",
   "version": "2.7.13"
  }
 },
 "nbformat": 4,
 "nbformat_minor": 2
}

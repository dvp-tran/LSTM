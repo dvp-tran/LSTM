{
 "cells": [
  {
   "cell_type": "code",
   "execution_count": 1,
   "metadata": {
    "collapsed": false,
    "scrolled": true
   },
   "outputs": [
    {
     "name": "stdout",
     "output_type": "stream",
     "text": [
      "{\"created_at\": \"Sat Apr 22 18:34:31 +0000 2017\", \"default_profile\": true, \"description\": \"Learning how to be creative\", \"followers_count\": 3, \"friends_count\": 1, \"id\": 855852332034265088, \"lang\": \"en\", \"location\": \"Somewhere in the cloud\", \"name\": \"ArtistBot\", \"profile_background_color\": \"F5F8FA\", \"profile_banner_url\": \"https://pbs.twimg.com/profile_banners/855852332034265088/1492892354\", \"profile_image_url\": \"http://pbs.twimg.com/profile_images/855878764143804417/r55Z2Js5_normal.jpg\", \"profile_link_color\": \"1DA1F2\", \"profile_sidebar_fill_color\": \"DDEEF6\", \"profile_text_color\": \"333333\", \"screen_name\": \"TheTalkativeBot\", \"status\": {\"created_at\": \"Fri Apr 28 01:59:41 +0000 2017\", \"id\": 857776301381488640, \"id_str\": \"857776301381488640\", \"in_reply_to_screen_name\": \"dvp_tran\", \"in_reply_to_status_id\": 857775842004533248, \"in_reply_to_user_id\": 747074580754403328, \"lang\": \"en\", \"media\": [{\"display_url\": \"pic.twitter.com/2ccUkz08Qk\", \"expanded_url\": \"https://twitter.com/TheTalkativeBot/status/857776301381488640/photo/1\", \"id\": 857776298021838849, \"media_url\": \"http://pbs.twimg.com/media/C-du_5RXYAEBD7T.jpg\", \"media_url_https\": \"https://pbs.twimg.com/media/C-du_5RXYAEBD7T.jpg\", \"sizes\": {\"large\": {\"h\": 1200, \"resize\": \"fit\", \"w\": 900}, \"medium\": {\"h\": 1200, \"resize\": \"fit\", \"w\": 900}, \"small\": {\"h\": 680, \"resize\": \"fit\", \"w\": 510}, \"thumb\": {\"h\": 150, \"resize\": \"crop\", \"w\": 150}}, \"type\": \"photo\", \"url\": \"https://t.co/2ccUkz08Qk\"}], \"source\": \"<a href=\\\"http://www.google.com\\\" rel=\\\"nofollow\\\">TheScenarioBot</a>\", \"text\": \"@dvp_tran Here what's your picture evokes to me ! https://t.co/2ccUkz08Qk\"}, \"statuses_count\": 44}\n"
     ]
    }
   ],
   "source": [
    "from twitter_bot import *"
   ]
  },
  {
   "cell_type": "raw",
   "metadata": {},
   "source": [
    "replie =get_reply(857769024419241984,10)\n",
    "replie"
   ]
  },
  {
   "cell_type": "code",
   "execution_count": null,
   "metadata": {
    "collapsed": false,
    "scrolled": true
   },
   "outputs": [],
   "source": [
    "auto_answer()"
   ]
  }
 ],
 "metadata": {
  "kernelspec": {
   "display_name": "Python 2",
   "language": "python",
   "name": "python2"
  },
  "language_info": {
   "codemirror_mode": {
    "name": "ipython",
    "version": 2
   },
   "file_extension": ".py",
   "mimetype": "text/x-python",
   "name": "python",
   "nbconvert_exporter": "python",
   "pygments_lexer": "ipython2",
   "version": "2.7.13"
  }
 },
 "nbformat": 4,
 "nbformat_minor": 2
}

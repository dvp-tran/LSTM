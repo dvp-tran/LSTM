{
 "cells": [
  {
   "cell_type": "code",
   "execution_count": 1,
   "metadata": {
    "collapsed": false,
    "scrolled": true
   },
   "outputs": [
    {
     "name": "stdout",
     "output_type": "stream",
     "text": [
      "{\"created_at\": \"Sat Apr 22 18:34:31 +0000 2017\", \"default_profile\": true, \"description\": \"Learning how to be creative\", \"followers_count\": 3, \"friends_count\": 1, \"id\": 855852332034265088, \"lang\": \"en\", \"location\": \"Somewhere in the cloud\", \"name\": \"ArtistBot\", \"profile_background_color\": \"F5F8FA\", \"profile_banner_url\": \"https://pbs.twimg.com/profile_banners/855852332034265088/1492892354\", \"profile_image_url\": \"http://pbs.twimg.com/profile_images/855878764143804417/r55Z2Js5_normal.jpg\", \"profile_link_color\": \"1DA1F2\", \"profile_sidebar_fill_color\": \"DDEEF6\", \"profile_text_color\": \"333333\", \"screen_name\": \"TheTalkativeBot\", \"status\": {\"created_at\": \"Fri Apr 28 01:59:41 +0000 2017\", \"id\": 857776301381488640, \"id_str\": \"857776301381488640\", \"in_reply_to_screen_name\": \"dvp_tran\", \"in_reply_to_status_id\": 857775842004533248, \"in_reply_to_user_id\": 747074580754403328, \"lang\": \"en\", \"media\": [{\"display_url\": \"pic.twitter.com/2ccUkz08Qk\", \"expanded_url\": \"https://twitter.com/TheTalkativeBot/status/857776301381488640/photo/1\", \"id\": 857776298021838849, \"media_url\": \"http://pbs.twimg.com/media/C-du_5RXYAEBD7T.jpg\", \"media_url_https\": \"https://pbs.twimg.com/media/C-du_5RXYAEBD7T.jpg\", \"sizes\": {\"large\": {\"h\": 1200, \"resize\": \"fit\", \"w\": 900}, \"medium\": {\"h\": 1200, \"resize\": \"fit\", \"w\": 900}, \"small\": {\"h\": 680, \"resize\": \"fit\", \"w\": 510}, \"thumb\": {\"h\": 150, \"resize\": \"crop\", \"w\": 150}}, \"type\": \"photo\", \"url\": \"https://t.co/2ccUkz08Qk\"}], \"source\": \"<a href=\\\"http://www.google.com\\\" rel=\\\"nofollow\\\">TheScenarioBot</a>\", \"text\": \"@dvp_tran Here what's your picture evokes to me ! https://t.co/2ccUkz08Qk\"}, \"statuses_count\": 44}\n"
     ]
    }
   ],
   "source": [
    "from twitter_bot import *"
   ]
  },
  {
   "cell_type": "raw",
   "metadata": {},
   "source": [
    "replie =get_reply(857769024419241984,10)\n",
    "replie"
   ]
  },
  {
   "cell_type": "code",
   "execution_count": 3,
   "metadata": {
    "collapsed": false
   },
   "outputs": [
    {
     "data": {
      "text/plain": [
       "[Status(ID=858066436144717828, ScreenName=Guepardow, Created=Fri Apr 28 21:12:35 +0000 2017, Text=u'@TheTalkativeBot @dvp_tran english https://t.co/tetO18YoMi'),\n",
       " Status(ID=858065540815912960, ScreenName=Guepardow, Created=Fri Apr 28 21:09:01 +0000 2017, Text=u'@TheTalkativeBot @dvp_tran english'),\n",
       " Status(ID=858061644878020608, ScreenName=MiahCelina, Created=Fri Apr 28 20:53:32 +0000 2017, Text=u'\\U0001f643Ce smiley repr\\xe9sente tellement bien mon existence.'),\n",
       " Status(ID=858060783309213696, ScreenName=TheTalkativeBot, Created=Fri Apr 28 20:50:07 +0000 2017, Text=u\"@Guepardow @dvp_tran Here what's your picture evokes to me ! https://t.co/eXS9dErx7t\"),\n",
       " Status(ID=858060099998420992, ScreenName=Guepardow, Created=Fri Apr 28 20:47:24 +0000 2017, Text=u'@TheTalkativeBot @dvp_tran french https://t.co/wkptSHLxv1'),\n",
       " Status(ID=858057837125279745, ScreenName=TheTalkativeBot, Created=Fri Apr 28 20:38:24 +0000 2017, Text=u\"@Guepardow @dvp_tran Here what's your picture evokes to me ! https://t.co/ZLaUcK5p79\"),\n",
       " Status(ID=858056248297652224, ScreenName=Guepardow, Created=Fri Apr 28 20:32:06 +0000 2017, Text=u'@TheTalkativeBot @dvp_tran english https://t.co/XCEp6Vpoii'),\n",
       " Status(ID=858055268583833600, ScreenName=TheTalkativeBot, Created=Fri Apr 28 20:28:12 +0000 2017, Text=u\"@dvp_tran Here what's your picture evokes to me ! https://t.co/FZhFJEtvIh\")]"
      ]
     },
     "execution_count": 3,
     "metadata": {},
     "output_type": "execute_result"
    }
   ],
   "source": [
    "get_timeline(10)"
   ]
  },
  {
   "cell_type": "code",
   "execution_count": null,
   "metadata": {
    "collapsed": false,
    "scrolled": false
   },
   "outputs": [
    {
     "name": "stdout",
     "output_type": "stream",
     "text": [
      "Iteration : 0\n",
      "Image saved at : ../data/images/42.jpg.\n",
      "Image Captionning...\n",
      "\ta dog is licking its nose .\n",
      "\n",
      "a dog is licking its nose .\n",
      "\n",
      "PHithto wise ne tnitigns,a Tong worship him\n",
      "which was nearly sentined with him, and then she would not be like the will of my hand.\n",
      "\n",
      "Scrooge seemed to be earrielest.a\n",
      "\n",
      "aIf these soon was in both Peter as if you go into Peter,\n",
      "a Wisdom loves me, and a dog, and lost the others to the wilderness.a\n",
      "\n",
      "aI wonder what I have?a\n",
      "\n",
      "aOf course it is,a said Miss Cartalyy on the latter. And what a woman would catch me home at the fram.\n",
      "Itas quite a perfect man, thatas what,a she said.\n",
      "\n",
      "aA fit, when Peter answerable to the party and the neighboring house of Rhfuse Johnas\n",
      "equitions. But the same laws which are not enabled by the most entire\n",
      "predotion of members and\n",
      "Done drawing answer!\n",
      "Answer-image drawn and saved at :../data/output/42.jpg!\n"
     ]
    },
    {
     "name": "stderr",
     "output_type": "stream",
     "text": [
      "/home/paul/anaconda2/lib/python2.7/site-packages/PIL/JpegImagePlugin.py:593: DeprecationWarning: You are saving RGBA image as JPEG. The alpha channel will be discarded. This conversion is deprecated and will be disabled in Pillow 3.7. Please, convert the image to RGB explicitly.\n",
      "  DeprecationWarning\n"
     ]
    },
    {
     "name": "stdout",
     "output_type": "stream",
     "text": [
      "Answer sent!\n",
      "Status id : 858066436144717828, answered.\n",
      "Image flagged for no further repetition.\n",
      "Iteration : 1\n",
      "Iteration : 2\n"
     ]
    }
   ],
   "source": [
    "auto_answer()"
   ]
  }
 ],
 "metadata": {
  "kernelspec": {
   "display_name": "Python 2",
   "language": "python",
   "name": "python2"
  },
  "language_info": {
   "codemirror_mode": {
    "name": "ipython",
    "version": 2
   },
   "file_extension": ".py",
   "mimetype": "text/x-python",
   "name": "python",
   "nbconvert_exporter": "python",
   "pygments_lexer": "ipython2",
   "version": "2.7.13"
  }
 },
 "nbformat": 4,
 "nbformat_minor": 2
}

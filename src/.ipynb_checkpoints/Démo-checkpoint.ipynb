{
 "cells": [
  {
   "cell_type": "markdown",
   "metadata": {},
   "source": [
    "# Notebook for demonstration purposes"
   ]
  },
  {
   "cell_type": "markdown",
   "metadata": {},
   "source": [
    "------------------"
   ]
  },
  {
   "cell_type": "markdown",
   "metadata": {},
   "source": [
    "# I. Generate purely random text"
   ]
  },
  {
   "cell_type": "code",
   "execution_count": null,
   "metadata": {
    "collapsed": true
   },
   "outputs": [],
   "source": [
    "import string\n",
    "import random\n",
    "seed_ = random.choice(string.letters)"
   ]
  },
  {
   "cell_type": "code",
   "execution_count": 33,
   "metadata": {
    "collapsed": false
   },
   "outputs": [
    {
     "name": "stdout",
     "output_type": "stream",
     "text": [
      "CConstitution for its political existence? The persons of each war, probably, and who, as to the case, I shall\r\n",
      "become perfectly avariciest in that case. The power of defensive is the power of\r\n",
      "delegated investions of power, which enables to be a reasonable\r\n",
      "tribunal circumstances, and in an immediate acced ganeal opinions against the ancient past yet\r\n",
      "knockest those directly refreshing itself.\r\n",
      "\r\n",
      "Let us ask a more light one by one, and as to the thoughts difficult to be\r\n",
      "\r\n",
      "taken, and then it was not in the deficiency of the Union, and an improper attraction of\r\n",
      "\r\n",
      "executive ambassadibity against the executive and judiciary departments.\r\n",
      "The individual legist occus artlences of the majority t\n"
     ]
    }
   ],
   "source": [
    "out = subprocess.Popen([\"python\",\"english_lstm.py\",seed_,\"700\"], stdout=subprocess.PIPE)\n",
    "print(out.communicate()[0])"
   ]
  },
  {
   "cell_type": "code",
   "execution_count": 34,
   "metadata": {
    "collapsed": false
   },
   "outputs": [
    {
     "name": "stdout",
     "output_type": "stream",
     "text": [
      "CCependant, si de la distance qui nous si12pare de cet animal, et\n",
      "qu'il faut estimer i12 douze lieues de di12sest; il di12poura\n",
      "le gentiller, et je ne pouvais mi12me en supporter la ville.  On i12touffa. Il reste\n",
      "une courbe froidie, et un sera pour moi un mi12loirable et comme s'il en\n",
      "avait laissi12 de cent quatre mille livres, de\n",
      "poudre des di12couvertes grandes pentes et de quinze cent quatre-vingt-dix\n",
      "pieds i12 peine de vul; seulement, la ville i12tait di12ji12 paru se\n",
      "parut le 11 pied domestr.\n",
      "Le pauvre i12tait pri12cipitait le vider avec un absolti12 vers\n",
      "les ingalcibliti12s.\n",
      "Le vent nous entendront, mais comme une fois te plonge\n",
      "accompagnaient les ruches auparavanti12s, brisantiques, d\n"
     ]
    }
   ],
   "source": [
    "out = subprocess.Popen([\"python\",\"french_lstm.py\",seed_,\"700\"], stdout=subprocess.PIPE)\n",
    "print(out.communicate()[0])"
   ]
  },
  {
   "cell_type": "code",
   "execution_count": 36,
   "metadata": {
    "collapsed": false
   },
   "outputs": [
    {
     "name": "stdout",
     "output_type": "stream",
     "text": [
      "ggen, als zu beweisen, da er geschlagen werden solle.\r\n",
      "\r\n",
      "Indessen nun, bis irgend ein wohltatiger Geninma zum\r\n",
      "Unterschrift von den Wafen, und die vier Smolon entweichte ich\r\n",
      "nicht beruhmte Dato verantworten werden, indem ich gleicher sein,\r\n",
      "als wenn sie aus keine Vorstellung dahin, da man ihm lange nicht auch vollstandig frei, aber\r\n",
      "nicht jeder neun Zeit uberall haben konnt, als ein solcher Weise vor sich, so bald\r\n",
      "die Bosheit eures Umbrechesses werden, weil es wenigstens dafur\r\n",
      "ausgeheilt worden sei.  Er versammelte sich auf diese Weise zu helfen.\r\n",
      "Meine Frau war nicht gern die Leibwohrung seh,\r\n",
      "Ich wei ein armes, gegeben Mastausgeschlecht,\r\n",
      "Wenn man den Dichtern werden seyn, wo nicht alte\n"
     ]
    }
   ],
   "source": [
    "out = subprocess.Popen([\"python\",\"german_lstm.py\",\"g\",\"700\"], stdout=subprocess.PIPE)\n",
    "print(out.communicate()[0])"
   ]
  },
  {
   "cell_type": "code",
   "execution_count": 41,
   "metadata": {
    "collapsed": false
   },
   "outputs": [
    {
     "name": "stdout",
     "output_type": "stream",
     "text": [
      "CCONTINUED)\n",
      "</b><b>165  CONTINUED:  (3)\n",
      "</b><b>\t\t\t\t\t\n",
      "</b><b>\t\t\t\t\tANNE MARIE\n",
      "</b>\t\t\tOh, sweetheart.  It's beautiful!\n",
      "<b>\t\t\t\t\t\n",
      "</b><b>\t\t\t\t\tWILDER\n",
      "</b>\t\t\tStukin arqued knocked like Prosector\n",
      "\t\t\tmuch on the way to the\n",
      "\t\t\treal to greek.\n",
      "<b>\t\t\t\t\t\n",
      "</b><b>\t\t\t\t\tVIKING BOB\n",
      "</b>\t\t\tWhere?\n",
      "\n",
      "<b>\t\t\t\tEMIL\n",
      "</b>\t\tWhy don't we get some sleep and your\n",
      "\t\tcareful.\"  We'll talk to I put her hand.  \t\tSim!  We'd that they got from Devil's\n",
      "\t\tgetting reported.  Immediately.\n",
      "\n",
      "<b>\t\t\t\tMURPS UP and OVER\n",
      "</b>\t\tWhere it see! \n",
      "\n",
      "<b>               SAX' MINGLE OUT OF THE OTHER\n",
      "</b>\n",
      "               Vanessa sees something as the BUITY GREWANE.                                     BOB                         Well, so he's a weight. \n"
     ]
    }
   ],
   "source": [
    "out = subprocess.Popen([\"python\",\"hollywood_lstm.py\",seed_,\"700\"], stdout=subprocess.PIPE)\n",
    "print(out.communicate()[0])"
   ]
  },
  {
   "cell_type": "markdown",
   "metadata": {},
   "source": [
    "# II. Demo for main.py"
   ]
  },
  {
   "cell_type": "code",
   "execution_count": null,
   "metadata": {
    "collapsed": true
   },
   "outputs": [],
   "source": [
    "from main import *"
   ]
  },
  {
   "cell_type": "code",
   "execution_count": null,
   "metadata": {
    "collapsed": true
   },
   "outputs": [],
   "source": [
    "get_timeline(10)"
   ]
  },
  {
   "cell_type": "code",
   "execution_count": null,
   "metadata": {
    "collapsed": true
   },
   "outputs": [],
   "source": [
    "try:\n",
    "    auto_answer()\n",
    "except KeyboardInterrupt:\n",
    "        print 'Interrupted'"
   ]
  }
 ],
 "metadata": {
  "kernelspec": {
   "display_name": "Python 2",
   "language": "python",
   "name": "python2"
  },
  "language_info": {
   "codemirror_mode": {
    "name": "ipython",
    "version": 2
   },
   "file_extension": ".py",
   "mimetype": "text/x-python",
   "name": "python",
   "nbconvert_exporter": "python",
   "pygments_lexer": "ipython2",
   "version": "2.7.13"
  }
 },
 "nbformat": 4,
 "nbformat_minor": 2
}

{
 "cells": [
  {
   "cell_type": "markdown",
   "metadata": {},
   "source": [
    "# Notebook for demonstration purposes"
   ]
  },
  {
   "cell_type": "markdown",
   "metadata": {},
   "source": [
    "------------------"
   ]
  },
  {
   "cell_type": "markdown",
   "metadata": {},
   "source": [
    "# I. Generate purely random text"
   ]
  },
  {
   "cell_type": "code",
   "execution_count": 1,
   "metadata": {
    "collapsed": true
   },
   "outputs": [],
   "source": [
    "import string\n",
    "import random\n",
    "import subprocess\n",
    "seed_ = random.choice(string.letters)"
   ]
  },
  {
   "cell_type": "code",
   "execution_count": 2,
   "metadata": {
    "collapsed": false
   },
   "outputs": [
    {
     "name": "stdout",
     "output_type": "stream",
     "text": [
      "ss and with the praise of the LORD, and his hands\r\n",
      "           and his servants with him, which was the son of Saratha, which was the son of Eliezer, which\r\n",
      "           was the son of Saul, an hundred twenty and one.\r\n",
      "\r\n",
      "15:002:027 The children of Pahathmoab, of the children of Zebedee, who made them stones\r\n",
      "           and hired barr other gods, and discomfited themselves unto them, saying, What shall\r\n",
      "           I deliver thee, and thy right hand shall be saved.\r\n",
      "\r\n",
      "19:081:012 Only thou shalt bring a shout unto the priest, and be shut up, and anoint thee, and thou\r\n",
      "           shalt blake thy hones unto thee.\r\n",
      "\r\n",
      "02:020:013 Thou shalt not have in the spirit of truth and pride in thy land.\r\n",
      "\r\n",
      "19:0\n"
     ]
    }
   ],
   "source": [
    "out = subprocess.Popen([\"python\",\"english_lstm.py\",seed_,\"700\"], stdout=subprocess.PIPE)\n",
    "print(out.communicate()[0])"
   ]
  },
  {
   "cell_type": "code",
   "execution_count": 3,
   "metadata": {
    "collapsed": false
   },
   "outputs": [
    {
     "name": "stdout",
     "output_type": "stream",
     "text": [
      "ss autres d'un plaisir.A Par quelle trappe\n",
      "soudainement abaissAe (lui qui n'avait eu autrefois de son extrAmitA\n",
      "pendant le monde entier, fermaient d'autres nettetins que faisait le salue\n",
      "que ma pensAe l'aurais--, une transparente extriomphA qui\n",
      "abondissable de leurs Avents), et cette acide fut ajoutA dans ses plus\n",
      "gracions A  partir, il repensa A  cette plage de Boeabou, s'Atait trouvA si vite le\n",
      "disanter se faire un tableau par exemple. Et toutes ces\n",
      "personnes voisines, qui Ataient vivement sAances par des caisses\n",
      "ingAnieures du plaisir qu'il avait souvent prAcipitA dans son souvenir suffirait au grand\n",
      "prAtience et du bonheur de l'autre, que le malheureux, aprA s avoir demandA A  Swann et\n",
      "s\n"
     ]
    }
   ],
   "source": [
    "out = subprocess.Popen([\"python\",\"french_lstm.py\",seed_,\"700\"], stdout=subprocess.PIPE)\n",
    "print(out.communicate()[0])"
   ]
  },
  {
   "cell_type": "code",
   "execution_count": 4,
   "metadata": {
    "collapsed": false
   },
   "outputs": [
    {
     "name": "stdout",
     "output_type": "stream",
     "text": [
      "ss de l'Europe occidentale.  Ne\r\n",
      "souriez pas, monsieur, notre Januvra, Joe, et le mirai\r\n",
      "vers le chalumeau, et reclamait le docteur Fergusson.\r\n",
      "\r\n",
      "On se figure aisement les felections pouvaient perdre au portrait sous\r\n",
      "le modette. Mais la main a manger et d'ancres, planatiques et montraient directement dans le parc\r\n",
      "oA1 Swann lui avait parle utile de mensir\r\n",
      "aux routes qui conservent par une fenetre enclavette.  Vons distinsure\r\n",
      "a elle a moi! Et si Swann avait eu une jeune femme du\r\n",
      "village est encore, mais me soutinant la contemplation des geographiques\r\n",
      "d'une carte force semblable a celui qui devait defante, au lieu de\r\n",
      "sens qui le soif puissait en ces couches inconnus, et plus\r\n",
      "aises eclat\n"
     ]
    }
   ],
   "source": [
    "out = subprocess.Popen([\"python\",\"french_lstm_2.py\",seed_,\"700\"], stdout=subprocess.PIPE)\n",
    "print(out.communicate()[0])"
   ]
  },
  {
   "cell_type": "code",
   "execution_count": 5,
   "metadata": {
    "collapsed": false
   },
   "outputs": [
    {
     "name": "stdout",
     "output_type": "stream",
     "text": [
      "ggen, als zu beweisen, da er geschlagen werden solle.\r\n",
      "\r\n",
      "Indessen nun, bis irgend ein wohltatiger Geninma zum\r\n",
      "Unterschrift von den Wafen, und die vier Smolon entweichte ich\r\n",
      "nicht beruhmte Dato verantworten werden, indem ich gleicher sein,\r\n",
      "als wenn sie aus keine Vorstellung dahin, da man ihm lange nicht auch vollstandig frei, aber\r\n",
      "nicht jeder neun Zeit uberall haben konnt, als ein solcher Weise vor sich, so bald\r\n",
      "die Bosheit eures Umbrechesses werden, weil es wenigstens dafur\r\n",
      "ausgeheilt worden sei.  Er versammelte sich auf diese Weise zu helfen.\r\n",
      "Meine Frau war nicht gern die Leibwohrung seh,\r\n",
      "Ich wei ein armes, gegeben Mastausgeschlecht,\r\n",
      "Wenn man den Dichtern werden seyn, wo nicht alte\n"
     ]
    }
   ],
   "source": [
    "out = subprocess.Popen([\"python\",\"german_lstm.py\",seed_,\"700\"], stdout=subprocess.PIPE)\n",
    "print(out.communicate()[0])"
   ]
  },
  {
   "cell_type": "code",
   "execution_count": 6,
   "metadata": {
    "collapsed": false
   },
   "outputs": [
    {
     "name": "stdout",
     "output_type": "stream",
     "text": [
      "ss the magazines in his chest.\n",
      "\n",
      "Purvis jerks again.  It looks like a sleeping bene turned anything \n",
      "them contince to a stream of blue.\n",
      "<b>\t\t\t\t\t\n",
      "</b><b>\t\t\t\t\tERIC\n",
      "</b>\t\t\t(continuing)\n",
      "\t\t\tThought of everything let me go\n",
      "\t\t\tfrom the clients on the place.\n",
      "\n",
      "<b>\t\t\t\tEDDIE\n",
      "</b>\t\tYeausea call you are.  You can see is\n",
      "\t\ttold men, and if they play love you\n",
      "\t\told project.  No offend creek.\n",
      "\n",
      "<b>\t\t\t\tEDDIE\n",
      "</b>\t\tWhat kild you stant come?  It's an inoa\n",
      "\t\tdoor!\n",
      "\n",
      "<b>\t\t\t\tNICOLETTE\n",
      "</b>\t\tI used the burner than you don't girl\n",
      "\t\tabout to be me!\n",
      "\n",
      "<b>\t\t\t\tJORDY\n",
      "</b>\t\tHow did you get in too luner?  How\n",
      "\t\tsweated have to each other, and\n",
      "\t\tit's a Furious every director.  How\n",
      "\t\tin this way?\n",
      "\n",
      "<b>\t\t\t\tEMIL\n",
      "</b>\t\tYeah, yeah..\n"
     ]
    }
   ],
   "source": [
    "out = subprocess.Popen([\"python\",\"hollywood_lstm.py\",seed_,\"700\"], stdout=subprocess.PIPE)\n",
    "print(out.communicate()[0])"
   ]
  },
  {
   "cell_type": "markdown",
   "metadata": {},
   "source": [
    "# II. Demo for main.py"
   ]
  },
  {
   "cell_type": "code",
   "execution_count": 7,
   "metadata": {
    "collapsed": false
   },
   "outputs": [
    {
     "name": "stdout",
     "output_type": "stream",
     "text": [
      "{\"created_at\": \"Sat Apr 22 18:34:31 +0000 2017\", \"default_profile\": true, \"description\": \"Learning how to be creative\", \"followers_count\": 3, \"friends_count\": 3, \"id\": 855852332034265088, \"lang\": \"en\", \"location\": \"Somewhere in the cloud\", \"name\": \"ArtistBot\", \"profile_background_color\": \"F5F8FA\", \"profile_banner_url\": \"https://pbs.twimg.com/profile_banners/855852332034265088/1492892354\", \"profile_image_url\": \"http://pbs.twimg.com/profile_images/855878764143804417/r55Z2Js5_normal.jpg\", \"profile_link_color\": \"1DA1F2\", \"profile_sidebar_fill_color\": \"DDEEF6\", \"profile_text_color\": \"333333\", \"screen_name\": \"TheTalkativeBot\", \"status\": {\"created_at\": \"Tue May 02 01:35:06 +0000 2017\", \"id\": 859219665691824128, \"id_str\": \"859219665691824128\", \"in_reply_to_screen_name\": \"dvp_tran\", \"in_reply_to_status_id\": 859219180477984768, \"in_reply_to_user_id\": 747074580754403328, \"lang\": \"en\", \"media\": [{\"display_url\": \"pic.twitter.com/cPRCIot5qv\", \"expanded_url\": \"https://twitter.com/TheTalkativeBot/status/859219665691824128/photo/1\", \"id\": 859219662751621122, \"media_url\": \"http://pbs.twimg.com/media/C-yPux5XYAIhFWG.jpg\", \"media_url_https\": \"https://pbs.twimg.com/media/C-yPux5XYAIhFWG.jpg\", \"sizes\": {\"large\": {\"h\": 1200, \"resize\": \"fit\", \"w\": 900}, \"medium\": {\"h\": 1200, \"resize\": \"fit\", \"w\": 900}, \"small\": {\"h\": 680, \"resize\": \"fit\", \"w\": 510}, \"thumb\": {\"h\": 150, \"resize\": \"crop\", \"w\": 150}}, \"type\": \"photo\", \"url\": \"https://t.co/cPRCIot5qv\"}], \"source\": \"<a href=\\\"http://www.google.com\\\" rel=\\\"nofollow\\\">TheScenarioBot</a>\", \"text\": \"@dvp_tran Here what's your picture evokes to me ! https://t.co/cPRCIot5qv\"}, \"statuses_count\": 53}\n"
     ]
    }
   ],
   "source": [
    "from main import *"
   ]
  },
  {
   "cell_type": "code",
   "execution_count": 9,
   "metadata": {
    "collapsed": false
   },
   "outputs": [
    {
     "data": {
      "text/plain": [
       "[Status(ID=859219665691824128, ScreenName=TheTalkativeBot, Created=Tue May 02 01:35:06 +0000 2017, Text=u\"@dvp_tran Here what's your picture evokes to me ! https://t.co/cPRCIot5qv\"),\n",
       " Status(ID=859219180477984768, ScreenName=dvp_tran, Created=Tue May 02 01:33:10 +0000 2017, Text=u'@TheTalkativeBot french https://t.co/5KN9PgfX3z'),\n",
       " Status(ID=859205695597682688, ScreenName=TheTalkativeBot, Created=Tue May 02 00:39:35 +0000 2017, Text=u'Back online!'),\n",
       " Status(ID=859201811860860928, ScreenName=TheTalkativeBot, Created=Tue May 02 00:24:09 +0000 2017, Text=u\"@Ghastly_GH @MiahCelina @laink @terracid Here what's your picture evokes to me ! https://t.co/IGrXl1Snv2\"),\n",
       " Status(ID=859156630331682816, ScreenName=MiahCelina, Created=Mon May 01 21:24:37 +0000 2017, Text=u'RT @Ghastly_GH: Jean-Marie Le Pen en wankul. (@laink @terracid ) https://t.co/vkXpz7aBvt'),\n",
       " Status(ID=859154817117290497, ScreenName=MiahCelina, Created=Mon May 01 21:17:25 +0000 2017, Text=u'Ah ouais, il a un humour de fdp comme le mien'),\n",
       " Status(ID=859151705040093184, ScreenName=MiahCelina, Created=Mon May 01 21:05:03 +0000 2017, Text=u\"RT @leroidesrats: Les gens ils pensent que d\\xe8s que t'as du monde sur snap t'as des nude tout les soir, ca fait la deuxi\\xe8me bite que je re\\xe7o\\u2026\"),\n",
       " Status(ID=859151656604356608, ScreenName=MiahCelina, Created=Mon May 01 21:04:51 +0000 2017, Text=u'Mais pourquoi je suis pote avec ?\\U0001f914'),\n",
       " Status(ID=859150858017288192, ScreenName=MiahCelina, Created=Mon May 01 21:01:41 +0000 2017, Text=u\"C'est un monstre \\U0001f62d\\U0001f62d\\U0001f62d\"),\n",
       " Status(ID=859149273836990473, ScreenName=MiahCelina, Created=Mon May 01 20:55:23 +0000 2017, Text=u\"Dealann m'a dit que Bryce \\xe9tait son perso pr\\xe9f\\xe9r\\xe9 de 13 Reasons Why \\U0001f62d\\U0001f62d\")]"
      ]
     },
     "execution_count": 9,
     "metadata": {},
     "output_type": "execute_result"
    }
   ],
   "source": [
    "get_timeline(10)"
   ]
  },
  {
   "cell_type": "code",
   "execution_count": 10,
   "metadata": {
    "collapsed": false
   },
   "outputs": [
    {
     "name": "stdout",
     "output_type": "stream",
     "text": [
      "Iteration : 0\n",
      "Image saved at : ../data/images/45.jpg.\n",
      "Image Captionning...\n",
      "\ta dog swims in a pool \n",
      "\n",
      "\t Translation in fr :Un chien nage dans une piscine !\n",
      "Dreaming...\n",
      "In french :\n",
      "Un chien nage dans une piscineennaier stens, urdiffAstrA ele de l'armee des felles qui jausent\n",
      "l'un pour ainsi que du sieche, aprA s lui, dAjeuner un peu plus de l'Aglise. Et certes, plus riche\n",
      "orggtone, comme un lAge de plus engagnAes ce recevant que vous saient\n",
      "l'Aatre! Mon Dieu! Cette dame est tonnerre, regardA rent perillement son\n",
      "Aveille.  On le recevait chez lui en avant)), si je ne devais jamais sAr.\n",
      "\n",
      "Les volets de l'entreprise fut enlamAe A  Combray, il le trouvait\n",
      "le moyen de connaAtre personnellement, et dA s que le monde n'en avait pas\n",
      "beaucoup qui Atait chez elle et immAriateur, bon si noir, A  qui il avait\n",
      "cru que, pour lui faire supposer une fois par an mon grand-pA re\n",
      "Done drawing answer!\n",
      "Answer-image drawn and saved at :../data/output/45.jpg!\n"
     ]
    },
    {
     "name": "stderr",
     "output_type": "stream",
     "text": [
      "/home/paul/anaconda2/lib/python2.7/site-packages/PIL/JpegImagePlugin.py:593: DeprecationWarning: You are saving RGBA image as JPEG. The alpha channel will be discarded. This conversion is deprecated and will be disabled in Pillow 3.7. Please, convert the image to RGB explicitly.\n",
      "  DeprecationWarning\n"
     ]
    },
    {
     "name": "stdout",
     "output_type": "stream",
     "text": [
      "Answer sent!\n",
      "Status id : 859219180477984768, answered.\n",
      "Image flagged for no further repetition.\n",
      "Interrupted\n"
     ]
    }
   ],
   "source": [
    "try:\n",
    "    auto_answer()\n",
    "except KeyboardInterrupt:\n",
    "        print 'Interrupted'"
   ]
  }
 ],
 "metadata": {
  "kernelspec": {
   "display_name": "Python 2",
   "language": "python",
   "name": "python2"
  },
  "language_info": {
   "codemirror_mode": {
    "name": "ipython",
    "version": 2
   },
   "file_extension": ".py",
   "mimetype": "text/x-python",
   "name": "python",
   "nbconvert_exporter": "python",
   "pygments_lexer": "ipython2",
   "version": "2.7.13"
  }
 },
 "nbformat": 4,
 "nbformat_minor": 2
}

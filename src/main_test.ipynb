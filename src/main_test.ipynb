{
 "cells": [
  {
   "cell_type": "code",
   "execution_count": 7,
   "metadata": {
    "collapsed": false
   },
   "outputs": [],
   "source": [
    "from twitter_bot import *"
   ]
  },
  {
   "cell_type": "code",
   "execution_count": 5,
   "metadata": {
    "collapsed": false
   },
   "outputs": [
    {
     "name": "stdout",
     "output_type": "stream",
     "text": [
      "Iteration : 0\n",
      "local variable 'index' referenced before assignment\n",
      "Iteration : 0\n",
      "local variable 'index' referenced before assignment\n"
     ]
    },
    {
     "ename": "KeyboardInterrupt",
     "evalue": "",
     "output_type": "error",
     "traceback": [
      "\u001b[0;31m---------------------------------------\u001b[0m",
      "\u001b[0;31mKeyboardInterrupt\u001b[0mTraceback (most recent call last)",
      "\u001b[0;32m<ipython-input-5-2e1dc1ee8c4c>\u001b[0m in \u001b[0;36m<module>\u001b[0;34m()\u001b[0m\n\u001b[0;32m----> 1\u001b[0;31m \u001b[0mtwitter_bot\u001b[0m\u001b[0;34m.\u001b[0m\u001b[0mauto_answer\u001b[0m\u001b[0;34m(\u001b[0m\u001b[0;34m)\u001b[0m\u001b[0;34m\u001b[0m\u001b[0m\n\u001b[0m",
      "\u001b[0;32m/home/paul/Git_Repository/Data_Science/ENSAE/Projet_Python/LSTM/src/twitter_bot.py\u001b[0m in \u001b[0;36mauto_answer\u001b[0;34m()\u001b[0m\n\u001b[1;32m     76\u001b[0m     \u001b[0;32mwhile\u001b[0m \u001b[0mflag\u001b[0m\u001b[0;34m==\u001b[0m\u001b[0mTrue\u001b[0m\u001b[0;34m:\u001b[0m\u001b[0;34m\u001b[0m\u001b[0m\n\u001b[1;32m     77\u001b[0m         \u001b[0;32mtry\u001b[0m\u001b[0;34m:\u001b[0m\u001b[0;34m\u001b[0m\u001b[0m\n\u001b[0;32m---> 78\u001b[0;31m             \u001b[0mtime\u001b[0m\u001b[0;34m.\u001b[0m\u001b[0msleep\u001b[0m\u001b[0;34m(\u001b[0m\u001b[0;36m10\u001b[0m\u001b[0;34m)\u001b[0m\u001b[0;34m\u001b[0m\u001b[0m\n\u001b[0m\u001b[1;32m     79\u001b[0m             \u001b[0;32mprint\u001b[0m\u001b[0;34m(\u001b[0m\u001b[0;34m\"Iteration : %s\"\u001b[0m \u001b[0;34m%\u001b[0m\u001b[0mi\u001b[0m\u001b[0;34m)\u001b[0m\u001b[0;34m\u001b[0m\u001b[0m\n\u001b[1;32m     80\u001b[0m             \u001b[0mtimeline\u001b[0m\u001b[0;34m=\u001b[0m\u001b[0mget_timeline\u001b[0m\u001b[0;34m(\u001b[0m\u001b[0;36m3\u001b[0m\u001b[0;34m)\u001b[0m\u001b[0;34m\u001b[0m\u001b[0m\n",
      "\u001b[0;31mKeyboardInterrupt\u001b[0m: "
     ]
    }
   ],
   "source": [
    "auto_answer()"
   ]
  },
  {
   "cell_type": "code",
   "execution_count": 9,
   "metadata": {
    "collapsed": false
   },
   "outputs": [
    {
     "data": {
      "text/plain": [
       "[Status(ID=856999137753145349, ScreenName=TheTalkativeBot, Created=Tue Apr 25 22:31:31 +0000 2017, Text=u\"@dvp_tran Here what's your picture evokes to me ! https://t.co/lMV1EeegY0\"),\n",
       " Status(ID=856894659007844352, ScreenName=TheTalkativeBot, Created=Tue Apr 25 15:36:21 +0000 2017, Text=u'@dvp_tran Automamte answer 2 !'),\n",
       " Status(ID=856883554000699392, ScreenName=TheTalkativeBot, Created=Tue Apr 25 14:52:14 +0000 2017, Text=u'@dvp_tran Thanks !'),\n",
       " Status(ID=856879788518236161, ScreenName=dvp_tran, Created=Tue Apr 25 14:37:16 +0000 2017, Text=u'@TheTalkativeBot  https://t.co/4D3EzJT72a'),\n",
       " Status(ID=856879293871398912, ScreenName=dvp_tran, Created=Tue Apr 25 14:35:18 +0000 2017, Text=u'@TheTalkativeBot https://t.co/eUg9Eh7SQO'),\n",
       " Status(ID=856878436731715586, ScreenName=dvp_tran, Created=Tue Apr 25 14:31:54 +0000 2017, Text=u'@TheTalkativeBot  https://t.co/nkjGpGxAZ8'),\n",
       " Status(ID=856504737352601601, ScreenName=TheTalkativeBot, Created=Mon Apr 24 13:46:57 +0000 2017, Text=u'@dvp_tran Automate answer !'),\n",
       " Status(ID=856504560373911552, ScreenName=dvp_tran, Created=Mon Apr 24 13:46:14 +0000 2017, Text=u'@TheTalkativeBot  https://t.co/NlwwFG8NEU'),\n",
       " Status(ID=856504435304001536, ScreenName=TheTalkativeBot, Created=Mon Apr 24 13:45:45 +0000 2017, Text=u'@dvp_tran Automate answer !'),\n",
       " Status(ID=856504283625402373, ScreenName=dvp_tran, Created=Mon Apr 24 13:45:08 +0000 2017, Text=u'@TheTalkativeBot  https://t.co/vHRFKGeSXM')]"
      ]
     },
     "execution_count": 9,
     "metadata": {},
     "output_type": "execute_result"
    }
   ],
   "source": [
    "get_timeline(10)"
   ]
  }
 ],
 "metadata": {
  "kernelspec": {
   "display_name": "Python 2",
   "language": "python",
   "name": "python2"
  },
  "language_info": {
   "codemirror_mode": {
    "name": "ipython",
    "version": 2
   },
   "file_extension": ".py",
   "mimetype": "text/x-python",
   "name": "python",
   "nbconvert_exporter": "python",
   "pygments_lexer": "ipython2",
   "version": "2.7.13"
  }
 },
 "nbformat": 4,
 "nbformat_minor": 2
}

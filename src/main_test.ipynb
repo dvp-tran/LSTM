{
 "cells": [
  {
   "cell_type": "code",
   "execution_count": 1,
   "metadata": {
    "collapsed": false,
    "scrolled": true
   },
   "outputs": [
    {
     "name": "stdout",
     "output_type": "stream",
     "text": [
      "{\"created_at\": \"Sat Apr 22 18:34:31 +0000 2017\", \"default_profile\": true, \"description\": \"Learning how to be creative\", \"followers_count\": 3, \"friends_count\": 1, \"id\": 855852332034265088, \"lang\": \"en\", \"location\": \"Somewhere in the cloud\", \"name\": \"ArtistBot\", \"profile_background_color\": \"F5F8FA\", \"profile_banner_url\": \"https://pbs.twimg.com/profile_banners/855852332034265088/1492892354\", \"profile_image_url\": \"http://pbs.twimg.com/profile_images/855878764143804417/r55Z2Js5_normal.jpg\", \"profile_link_color\": \"1DA1F2\", \"profile_sidebar_fill_color\": \"DDEEF6\", \"profile_text_color\": \"333333\", \"screen_name\": \"TheTalkativeBot\", \"status\": {\"created_at\": \"Fri Apr 28 01:59:41 +0000 2017\", \"id\": 857776301381488640, \"id_str\": \"857776301381488640\", \"in_reply_to_screen_name\": \"dvp_tran\", \"in_reply_to_status_id\": 857775842004533248, \"in_reply_to_user_id\": 747074580754403328, \"lang\": \"en\", \"media\": [{\"display_url\": \"pic.twitter.com/2ccUkz08Qk\", \"expanded_url\": \"https://twitter.com/TheTalkativeBot/status/857776301381488640/photo/1\", \"id\": 857776298021838849, \"media_url\": \"http://pbs.twimg.com/media/C-du_5RXYAEBD7T.jpg\", \"media_url_https\": \"https://pbs.twimg.com/media/C-du_5RXYAEBD7T.jpg\", \"sizes\": {\"large\": {\"h\": 1200, \"resize\": \"fit\", \"w\": 900}, \"medium\": {\"h\": 1200, \"resize\": \"fit\", \"w\": 900}, \"small\": {\"h\": 680, \"resize\": \"fit\", \"w\": 510}, \"thumb\": {\"h\": 150, \"resize\": \"crop\", \"w\": 150}}, \"type\": \"photo\", \"url\": \"https://t.co/2ccUkz08Qk\"}], \"source\": \"<a href=\\\"http://www.google.com\\\" rel=\\\"nofollow\\\">TheScenarioBot</a>\", \"text\": \"@dvp_tran Here what's your picture evokes to me ! https://t.co/2ccUkz08Qk\"}, \"statuses_count\": 44}\n"
     ]
    }
   ],
   "source": [
    "from twitter_bot import *"
   ]
  },
  {
   "cell_type": "raw",
   "metadata": {},
   "source": [
    "replie =get_reply(857769024419241984,10)\n",
    "replie"
   ]
  },
  {
   "cell_type": "code",
   "execution_count": null,
   "metadata": {
    "collapsed": false,
    "scrolled": false
   },
   "outputs": [
    {
     "name": "stdout",
     "output_type": "stream",
     "text": [
      "Iteration : 0\n",
      "Iteration : 1\n",
      "Iteration : 2\n",
      "Image saved at : ../data/images/37.jpg.\n",
      "Image Captionning...\n",
      "\ta large cruise ship is floating in the water .\n",
      "\n",
      "a large cruise ship is floating in the water .\n",
      "\n",
      "PHappedway th thes enthalv'ng thedinerlin's a This is the last emperic not the early move\n",
      "for its own. Mestician says were not persecuted by the series of Green\n",
      "Gables,\" said the Satyr.  \"I will your cats,a they all sought to\n",
      "drink it.a\n",
      "\n",
      "aBut yes,a cried Anne, as she could not deny the beast.\n",
      "\n",
      "aJust it wonat be so,a believed Anne and Priscilla in the whisp,\n",
      "and they killed them. The Horse was alone in a man, who\n",
      "was spent with them all the next days, honey, perfectly sleep. But I\n",
      "found to marry him if its blit upon the buncsmant which has been made head.\n",
      "\n",
      "It was no school and we have attack it. The Pie prove of his wife waked a piec\n",
      "Done drawing answer!\n",
      "Answer-image drawn and saved at :../data/output/37.jpg!\n"
     ]
    },
    {
     "name": "stderr",
     "output_type": "stream",
     "text": [
      "/home/paul/anaconda2/lib/python2.7/site-packages/PIL/JpegImagePlugin.py:593: DeprecationWarning: You are saving RGBA image as JPEG. The alpha channel will be discarded. This conversion is deprecated and will be disabled in Pillow 3.7. Please, convert the image to RGB explicitly.\n",
      "  DeprecationWarning\n"
     ]
    },
    {
     "name": "stdout",
     "output_type": "stream",
     "text": [
      "Answer sent!\n",
      "Status id : 858053738656923648, answered.\n",
      "Image flagged for no further repetition.\n",
      "Iteration : 3\n",
      "Iteration : 4\n",
      "Image saved at : ../data/images/38.jpg.\n",
      "Image Captionning...\n",
      "\ta man in a suit is speaking into a microphone .\n",
      "\n",
      "a man in a suit is speaking into a microphone .\n",
      "\n",
      "PHanaon thaprciof oponkangeste dongentin, ooti This is the ravened physiced and now that Ruby Gillis was\n",
      "looked about him went to school and get her to the coat winter\n",
      "with them. A shuddering land she hes had lived.\n",
      "\n",
      "He had born him a sixty hadd--dooted piney, groaned and detained the ship. He\n",
      "aPrist's of all. Good to be a net for him, Peter came and sat down and\n",
      "caught a loud spirit.\n",
      "\n",
      "aIam not likely to be a man. Oh, what is the matter? I donat prove, yet. To this that I have\n",
      "always seen that she should have children thing about it when I was a great\n",
      "daughter. It would be a slave by sleep else. If only I had taken the\n",
      "shadow of a l\n",
      "Done drawing answer!\n",
      "Answer-image drawn and saved at :../data/output/38.jpg!\n"
     ]
    },
    {
     "name": "stderr",
     "output_type": "stream",
     "text": [
      "/home/paul/anaconda2/lib/python2.7/site-packages/PIL/JpegImagePlugin.py:593: DeprecationWarning: You are saving RGBA image as JPEG. The alpha channel will be discarded. This conversion is deprecated and will be disabled in Pillow 3.7. Please, convert the image to RGB explicitly.\n",
      "  DeprecationWarning\n"
     ]
    },
    {
     "name": "stdout",
     "output_type": "stream",
     "text": [
      "Answer sent!\n",
      "Status id : 858054605808308224, answered.\n",
      "Image flagged for no further repetition.\n",
      "Iteration : 5\n",
      "Iteration : 6\n",
      "Iteration : 7\n",
      "Iteration : 8\n",
      "Iteration : 9\n",
      "Iteration : 10\n",
      "Iteration : 11\n",
      "Image saved at : ../data/images/39.jpg.\n",
      "Image Captionning...\n",
      "\ta\n",
      "\n",
      "a\n",
      "\n",
      "Pleisance. I have thought apprehended to be a minister at a year.\n",
      "\n",
      "aThink of the good time,\" said that say, blessed hee, dong my back a raised format used\n",
      "for beautiful art empty as youall ever see it.a\n",
      "\n",
      "Anne had an easy top coming undone and so diffusively resolute to interrupt thinking.\n",
      "\n",
      "Wendy gave the spectices wondrous to give way. The real me in the next pale lead\n",
      "of the breast, the fatal droppised the fields of Charistlane at Thee from another dealt-reed, but every man on the\n",
      "town line came rushing down together.\n",
      "\n",
      "aI can never go a rich man when it is susceptible to-night.a\n",
      "\n",
      "\n",
      "\n",
      "\n",
      "\n",
      "The Flea and the Wolf\n",
      "\n",
      "\n",
      "A CROM of Night of Apro rague and the Woodcut\n",
      "\n",
      "\n",
      "          \n",
      "Done drawing answer!\n",
      "Answer-image drawn and saved at :../data/output/39.jpg!\n"
     ]
    },
    {
     "name": "stderr",
     "output_type": "stream",
     "text": [
      "/home/paul/anaconda2/lib/python2.7/site-packages/PIL/JpegImagePlugin.py:593: DeprecationWarning: You are saving RGBA image as JPEG. The alpha channel will be discarded. This conversion is deprecated and will be disabled in Pillow 3.7. Please, convert the image to RGB explicitly.\n",
      "  DeprecationWarning\n"
     ]
    },
    {
     "name": "stdout",
     "output_type": "stream",
     "text": [
      "Answer sent!\n",
      "Status id : 858056248297652224, answered.\n",
      "Image flagged for no further repetition.\n",
      "Iteration : 12\n",
      "Image saved at : ../data/images/40.jpg.\n",
      "Image Captionning...\n",
      "\ta man is holding a small child in a blue shirt .\n",
      "\n",
      "a man is holding a small child in a blue shirt .\n",
      "\n",
      "PHanaon madinesscretankithone andisiole anot ono2 its accounts to conveyant a baby.  Though the first is\n",
      "wanting, I would walk to do it. Iad happen Diana everything when I thought\n",
      "that he was as if he star two pairable as do not beat, and this was not shed am\n",
      "almost in solitude and fellowdeaveness.a\n",
      "\n",
      "aIf only one of you knows you but good or me, but I did it,a said Anne, as she followed the window,\n",
      "and said to him at this, athat I heard the news to the government of all. But\n",
      "John was a great size of a Sloane, where they are answerably\n",
      "for the first time, and the water is gone.\n",
      "\n",
      "18:003:001 Be thou exalted, LORD, and I will punish the\n",
      "Done drawing answer!\n",
      "Answer-image drawn and saved at :../data/output/40.jpg!\n"
     ]
    },
    {
     "name": "stderr",
     "output_type": "stream",
     "text": [
      "/home/paul/anaconda2/lib/python2.7/site-packages/PIL/JpegImagePlugin.py:593: DeprecationWarning: You are saving RGBA image as JPEG. The alpha channel will be discarded. This conversion is deprecated and will be disabled in Pillow 3.7. Please, convert the image to RGB explicitly.\n",
      "  DeprecationWarning\n"
     ]
    },
    {
     "name": "stdout",
     "output_type": "stream",
     "text": [
      "[{u'message': u'You attempted to reply to a tweet that is deleted or not visible to you.', u'code': 385}]\n",
      "Iteration : 12\n",
      "Iteration : 13\n",
      "Iteration : 14\n"
     ]
    }
   ],
   "source": [
    "auto_answer()"
   ]
  }
 ],
 "metadata": {
  "kernelspec": {
   "display_name": "Python 2",
   "language": "python",
   "name": "python2"
  },
  "language_info": {
   "codemirror_mode": {
    "name": "ipython",
    "version": 2
   },
   "file_extension": ".py",
   "mimetype": "text/x-python",
   "name": "python",
   "nbconvert_exporter": "python",
   "pygments_lexer": "ipython2",
   "version": "2.7.13"
  }
 },
 "nbformat": 4,
 "nbformat_minor": 2
}

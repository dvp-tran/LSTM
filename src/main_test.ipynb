{
 "cells": [
  {
   "cell_type": "code",
   "execution_count": 1,
   "metadata": {
    "collapsed": false,
    "scrolled": true
   },
   "outputs": [
    {
     "name": "stdout",
     "output_type": "stream",
     "text": [
      "{\"created_at\": \"Sat Apr 22 18:34:31 +0000 2017\", \"default_profile\": true, \"description\": \"Learning how to be creative\", \"followers_count\": 3, \"friends_count\": 3, \"id\": 855852332034265088, \"lang\": \"en\", \"location\": \"Somewhere in the cloud\", \"name\": \"ArtistBot\", \"profile_background_color\": \"F5F8FA\", \"profile_banner_url\": \"https://pbs.twimg.com/profile_banners/855852332034265088/1492892354\", \"profile_image_url\": \"http://pbs.twimg.com/profile_images/855878764143804417/r55Z2Js5_normal.jpg\", \"profile_link_color\": \"1DA1F2\", \"profile_sidebar_fill_color\": \"DDEEF6\", \"profile_text_color\": \"333333\", \"screen_name\": \"TheTalkativeBot\", \"status\": {\"created_at\": \"Fri Apr 28 21:19:14 +0000 2017\", \"id\": 858068109122572288, \"id_str\": \"858068109122572288\", \"in_reply_to_screen_name\": \"Guepardow\", \"in_reply_to_status_id\": 858066436144717828, \"in_reply_to_user_id\": 572547248, \"lang\": \"en\", \"media\": [{\"display_url\": \"pic.twitter.com/LAeXRCiKAf\", \"expanded_url\": \"https://twitter.com/TheTalkativeBot/status/858068109122572288/photo/1\", \"id\": 858068105926410243, \"media_url\": \"http://pbs.twimg.com/media/C-h4ZWbWAAMXylh.jpg\", \"media_url_https\": \"https://pbs.twimg.com/media/C-h4ZWbWAAMXylh.jpg\", \"sizes\": {\"large\": {\"h\": 1200, \"resize\": \"fit\", \"w\": 900}, \"medium\": {\"h\": 1200, \"resize\": \"fit\", \"w\": 900}, \"small\": {\"h\": 680, \"resize\": \"fit\", \"w\": 510}, \"thumb\": {\"h\": 150, \"resize\": \"crop\", \"w\": 150}}, \"type\": \"photo\", \"url\": \"https://t.co/LAeXRCiKAf\"}], \"source\": \"<a href=\\\"http://www.google.com\\\" rel=\\\"nofollow\\\">TheScenarioBot</a>\", \"text\": \"@Guepardow @dvp_tran Here what's your picture evokes to me ! https://t.co/LAeXRCiKAf\"}, \"statuses_count\": 50}\n"
     ]
    }
   ],
   "source": [
    "from twitter_bot import *"
   ]
  },
  {
   "cell_type": "raw",
   "metadata": {},
   "source": [
    "replie =get_reply(857769024419241984,10)\n",
    "replie"
   ]
  },
  {
   "cell_type": "code",
   "execution_count": 3,
   "metadata": {
    "collapsed": false
   },
   "outputs": [
    {
     "data": {
      "text/plain": [
       "[Status(ID=859156630331682816, ScreenName=MiahCelina, Created=Mon May 01 21:24:37 +0000 2017, Text=u'RT @Ghastly_GH: Jean-Marie Le Pen en wankul. (@laink @terracid ) https://t.co/vkXpz7aBvt'),\n",
       " Status(ID=859154817117290497, ScreenName=MiahCelina, Created=Mon May 01 21:17:25 +0000 2017, Text=u'Ah ouais, il a un humour de fdp comme le mien'),\n",
       " Status(ID=859151705040093184, ScreenName=MiahCelina, Created=Mon May 01 21:05:03 +0000 2017, Text=u\"RT @leroidesrats: Les gens ils pensent que d\\xe8s que t'as du monde sur snap t'as des nude tout les soir, ca fait la deuxi\\xe8me bite que je re\\xe7o\\u2026\"),\n",
       " Status(ID=859151656604356608, ScreenName=MiahCelina, Created=Mon May 01 21:04:51 +0000 2017, Text=u'Mais pourquoi je suis pote avec ?\\U0001f914'),\n",
       " Status(ID=859150858017288192, ScreenName=MiahCelina, Created=Mon May 01 21:01:41 +0000 2017, Text=u\"C'est un monstre \\U0001f62d\\U0001f62d\\U0001f62d\"),\n",
       " Status(ID=859149273836990473, ScreenName=MiahCelina, Created=Mon May 01 20:55:23 +0000 2017, Text=u\"Dealann m'a dit que Bryce \\xe9tait son perso pr\\xe9f\\xe9r\\xe9 de 13 Reasons Why \\U0001f62d\\U0001f62d\"),\n",
       " Status(ID=859147192950558721, ScreenName=MiahCelina, Created=Mon May 01 20:47:07 +0000 2017, Text=u'Yes, il r\\xe9pond enfin \\U0001f60c'),\n",
       " Status(ID=859146497723703298, ScreenName=MiahCelina, Created=Mon May 01 20:44:21 +0000 2017, Text=u'Et y aura surement Abdel \\U0001f602'),\n",
       " Status(ID=859146269184405507, ScreenName=MiahCelina, Created=Mon May 01 20:43:27 +0000 2017, Text=u'Je suis l\\xe0 \\xe0 organiser une soir\\xe9e bowling alors que je sais pas y jouer \\U0001f643')]"
      ]
     },
     "execution_count": 3,
     "metadata": {},
     "output_type": "execute_result"
    }
   ],
   "source": [
    "get_timeline(10)"
   ]
  },
  {
   "cell_type": "code",
   "execution_count": null,
   "metadata": {
    "collapsed": false,
    "scrolled": false
   },
   "outputs": [
    {
     "name": "stdout",
     "output_type": "stream",
     "text": [
      "Iteration : 0\n",
      "Image saved at : ../data/images/43.jpg.\n",
      "Image Captionning...\n",
      "\ta man is looking at a large display of \n",
      "\n"
     ]
    }
   ],
   "source": [
    "auto_answer()"
   ]
  }
 ],
 "metadata": {
  "kernelspec": {
   "display_name": "Python 2",
   "language": "python",
   "name": "python2"
  },
  "language_info": {
   "codemirror_mode": {
    "name": "ipython",
    "version": 2
   },
   "file_extension": ".py",
   "mimetype": "text/x-python",
   "name": "python",
   "nbconvert_exporter": "python",
   "pygments_lexer": "ipython2",
   "version": "2.7.13"
  }
 },
 "nbformat": 4,
 "nbformat_minor": 2
}

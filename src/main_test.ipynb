{
 "cells": [
  {
   "cell_type": "code",
   "execution_count": 3,
   "metadata": {
    "collapsed": false
   },
   "outputs": [],
   "source": [
    "from twitter_bot import *"
   ]
  },
  {
   "cell_type": "code",
   "execution_count": 5,
   "metadata": {
    "collapsed": false,
    "scrolled": true
   },
   "outputs": [
    {
     "name": "stdout",
     "output_type": "stream",
     "text": [
      "Iteration : 0\n",
      "Image saved at : ../data/images/36.jpg.\n",
      "Image Captionning...\n",
      "\ta woman is sitting on a bus with a white umbrella .\n",
      "\n",
      "\t Translation in ger :eine Frau mit einem weien Regenschirm auf einem Bus sitzen. !\n",
      "Dreaming...\n",
      "eine Frau mit einem weien Regenschirm auf einem Bus sitzen.._  ihieumaus klnnn eich in nehsthen esch ein soseh nichts\n",
      "Liebe zu nehmen und zu bezahlen, denn ich mich auch einer;\n",
      "ich kann mich ihr so bereit, man hoffen und uber mich\n",
      "zu allen Zeiten mit mir.  Vielleicht erfuhr sie zu bessern, und\n",
      "ebenso ist mir's nicht unmoglich sprechen, nur zu begreifen, was\n",
      "sie eben dasselbe nicht so viel mitteilen, da ich nicht von mir zu sagen\n",
      "\n",
      "   inern, da dieser Zustand fur die heutige Krittkopfe fuhrte,\n",
      "und da ich die Aufnahmekepate zu Gat und machte, aber\n",
      "kalte Ma; nun bildete sie sich bald bekannt in Abend ihre\n",
      "Nachrichten, wo es gleich fallen auf da alle Schafe in ihrer Mitte.\n",
      "16. Und so s\n",
      "Done drawing answer!\n",
      "Answer-image drawn and saved at :../data/output/36.jpg!\n"
     ]
    },
    {
     "name": "stderr",
     "output_type": "stream",
     "text": [
      "/home/paul/anaconda2/lib/python2.7/site-packages/PIL/JpegImagePlugin.py:593: DeprecationWarning: You are saving RGBA image as JPEG. The alpha channel will be discarded. This conversion is deprecated and will be disabled in Pillow 3.7. Please, convert the image to RGB explicitly.\n",
      "  DeprecationWarning\n"
     ]
    },
    {
     "name": "stdout",
     "output_type": "stream",
     "text": [
      "Answer sent!\n",
      "Status id : 857775842004533248, answered.\n",
      "Image flagged for no further repetition.\n",
      "Iteration : 1\n"
     ]
    },
    {
     "ename": "KeyboardInterrupt",
     "evalue": "",
     "output_type": "error",
     "traceback": [
      "\u001b[0;31m---------------------------------------------------\u001b[0m",
      "\u001b[0;31mKeyboardInterrupt\u001b[0m Traceback (most recent call last)",
      "\u001b[0;32m<ipython-input-5-f522747eac3b>\u001b[0m in \u001b[0;36m<module>\u001b[0;34m()\u001b[0m\n\u001b[0;32m----> 1\u001b[0;31m \u001b[0mauto_answer\u001b[0m\u001b[0;34m(\u001b[0m\u001b[0;34m)\u001b[0m\u001b[0;34m\u001b[0m\u001b[0m\n\u001b[0m",
      "\u001b[0;32m/home/paul/Git_Repository/Data_Science/ENSAE/Projet_Python/LSTM/src/twitter_bot.py\u001b[0m in \u001b[0;36mauto_answer\u001b[0;34m()\u001b[0m\n\u001b[1;32m    112\u001b[0m                 \u001b[0mtime\u001b[0m\u001b[0;34m.\u001b[0m\u001b[0msleep\u001b[0m\u001b[0;34m(\u001b[0m\u001b[0;36m10\u001b[0m\u001b[0;34m)\u001b[0m\u001b[0;34m\u001b[0m\u001b[0m\n\u001b[1;32m    113\u001b[0m             \u001b[0mi\u001b[0m\u001b[0;34m=\u001b[0m\u001b[0mi\u001b[0m\u001b[0;34m+\u001b[0m\u001b[0;36m1\u001b[0m\u001b[0;34m\u001b[0m\u001b[0m\n\u001b[0;32m--> 114\u001b[0;31m             \u001b[0mtime\u001b[0m\u001b[0;34m.\u001b[0m\u001b[0msleep\u001b[0m\u001b[0;34m(\u001b[0m\u001b[0;36m60\u001b[0m\u001b[0;34m)\u001b[0m\u001b[0;34m\u001b[0m\u001b[0m\n\u001b[0m\u001b[1;32m    115\u001b[0m             \u001b[0;32mif\u001b[0m \u001b[0mi\u001b[0m\u001b[0;34m==\u001b[0m\u001b[0;36m25\u001b[0m\u001b[0;34m:\u001b[0m\u001b[0;34m\u001b[0m\u001b[0m\n\u001b[1;32m    116\u001b[0m                 \u001b[0mflag\u001b[0m\u001b[0;34m=\u001b[0m\u001b[0mFalse\u001b[0m\u001b[0;34m\u001b[0m\u001b[0m\n",
      "\u001b[0;31mKeyboardInterrupt\u001b[0m: "
     ]
    }
   ],
   "source": [
    "auto_answer()"
   ]
  }
 ],
 "metadata": {
  "kernelspec": {
   "display_name": "Python 2",
   "language": "python",
   "name": "python2"
  },
  "language_info": {
   "codemirror_mode": {
    "name": "ipython",
    "version": 2
   },
   "file_extension": ".py",
   "mimetype": "text/x-python",
   "name": "python",
   "nbconvert_exporter": "python",
   "pygments_lexer": "ipython2",
   "version": "2.7.13"
  }
 },
 "nbformat": 4,
 "nbformat_minor": 2
}

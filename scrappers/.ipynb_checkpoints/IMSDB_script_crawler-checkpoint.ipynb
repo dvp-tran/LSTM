{
 "cells": [
  {
   "cell_type": "markdown",
   "metadata": {},
   "source": [
    "# Simple gender analysis"
   ]
  },
  {
   "cell_type": "markdown",
   "metadata": {},
   "source": [
    "- ## Imports"
   ]
  },
  {
   "cell_type": "code",
   "execution_count": 1,
   "metadata": {
    "collapsed": false
   },
   "outputs": [],
   "source": [
    "%matplotlib inline\n",
    "\n",
    "import matplotlib\n",
    "import numpy as np\n",
    "import matplotlib.pyplot as plt\n",
    "import unicodedata\n",
    "\n",
    "import os, sys, json, re, argparse, urllib2\n",
    "from bs4 import BeautifulSoup, Tag, UnicodeDammit\n",
    "import pandas as pd\n",
    "from pandas.io.json import json_normalize\n",
    "import time\n",
    "import math\n",
    "\n",
    "from crawler import *"
   ]
  },
  {
   "cell_type": "markdown",
   "metadata": {},
   "source": [
    "- ## Crawl"
   ]
  },
  {
   "cell_type": "raw",
   "metadata": {},
   "source": [
    "scripts_by_genre(genre,'destination_path',max_movies)"
   ]
  },
  {
   "cell_type": "code",
   "execution_count": 2,
   "metadata": {
    "collapsed": false
   },
   "outputs": [
    {
     "name": "stdout",
     "output_type": "stream",
     "text": [
      "http://www.imsdb.com/scripts/Star-Wars-Revenge-of-the-Sith.html\n",
      "Found exception 'NoneType' object has no attribute 'find' in parsing.\n",
      "http://www.imsdb.com/scripts/Star-Wars-The-Force-Awakens.html\n",
      "Getting script @ http://www.imsdb.com/scripts/Star-Wars-The-Force-Awakens.html.\n",
      "      Done parsing script at http://www.imsdb.com/scripts/Star-Wars-The-Force-Awakens.html in 1.76563811302\n",
      "-----------------\n",
      "----Did not find scriptfile for http://www.imsdb.com/Movie%20Scripts/Batman%20Begins%20Script.html.\n",
      "http://www.imsdb.com/scripts/Collateral.html\n",
      "Found exception 'NoneType' object has no attribute 'find' in parsing.\n",
      "http://www.imsdb.com/scripts/Jackie-Brown.html\n",
      "Found a <pre> inside the <pre>\n",
      "Getting script @ http://www.imsdb.com/scripts/Jackie-Brown.html.\n",
      "      Done parsing script at http://www.imsdb.com/scripts/Jackie-Brown.html in 2.21021699905\n",
      "-----------------\n",
      "http://www.imsdb.com/scripts/15-Minutes.html\n",
      "Found a <pre> inside the <pre>\n",
      "Getting script @ http://www.imsdb.com/scripts/15-Minutes.html.\n",
      "      Done parsing script at http://www.imsdb.com/scripts/15-Minutes.html in 1.55265593529\n",
      "-----------------\n",
      "http://www.imsdb.com/scripts/2012.html\n",
      "Getting script @ http://www.imsdb.com/scripts/2012.html.\n",
      "      Done parsing script at http://www.imsdb.com/scripts/2012.html in 1.98716497421\n",
      "-----------------\n",
      "http://www.imsdb.com/scripts/30-Minutes-or-Less.html\n",
      "Getting script @ http://www.imsdb.com/scripts/30-Minutes-or-Less.html.\n",
      "      Done parsing script at http://www.imsdb.com/scripts/30-Minutes-or-Less.html in 1.64953517914\n",
      "-----------------\n",
      "http://www.imsdb.com/scripts/48-Hrs..html\n",
      "Found a <pre> inside the <pre>\n",
      "Getting script @ http://www.imsdb.com/scripts/48-Hrs..html.\n",
      "Found exception list index out of range in parsing.\n",
      "http://www.imsdb.com/scripts/A-Most-Violent-Year.html\n",
      "Getting script @ http://www.imsdb.com/scripts/A-Most-Violent-Year.html.\n",
      "      Done parsing script at http://www.imsdb.com/scripts/A-Most-Violent-Year.html in 1.82707095146\n",
      "-----------------\n",
      "http://www.imsdb.com/scripts/Above-the-Law.html\n",
      "Getting script @ http://www.imsdb.com/scripts/Above-the-Law.html.\n",
      "This script is too unstable to parse\n",
      "      Done parsing script at http://www.imsdb.com/scripts/Above-the-Law.html in 1.90145397186\n",
      "-----------------\n",
      "http://www.imsdb.com/scripts/Abyss,-The.html\n",
      "Found a <pre> inside the <pre>\n",
      "Getting script @ http://www.imsdb.com/scripts/Abyss,-The.html.\n",
      "      Done parsing script at http://www.imsdb.com/scripts/Abyss,-The.html in 1.62180304527\n",
      "-----------------\n",
      "http://www.imsdb.com/scripts/Air-Force-One.html\n",
      "Found a <pre> inside the <pre>\n",
      "Getting script @ http://www.imsdb.com/scripts/Air-Force-One.html.\n",
      "      Done parsing script at http://www.imsdb.com/scripts/Air-Force-One.html in 1.73626303673\n",
      "-----------------\n",
      "http://www.imsdb.com/scripts/Alien.html\n",
      "Found a <pre> inside the <pre>\n",
      "Getting script @ http://www.imsdb.com/scripts/Alien.html.\n",
      "      Done parsing script at http://www.imsdb.com/scripts/Alien.html in 1.76196193695\n",
      "-----------------\n",
      "http://www.imsdb.com/scripts/Alien-3.html\n",
      "Getting script @ http://www.imsdb.com/scripts/Alien-3.html.\n",
      "      Done parsing script at http://www.imsdb.com/scripts/Alien-3.html in 1.52758193016\n",
      "-----------------\n",
      "http://www.imsdb.com/scripts/Alien-vs.-Predator.html\n",
      "Getting script @ http://www.imsdb.com/scripts/Alien-vs.-Predator.html.\n",
      "Found exception list index out of range in parsing.\n",
      "http://www.imsdb.com/scripts/Alien-Resurrection.html\n",
      "Getting script @ http://www.imsdb.com/scripts/Alien-Resurrection.html.\n",
      "Found exception list index out of range in parsing.\n",
      "http://www.imsdb.com/scripts/Aliens.html\n",
      "Found a <pre> inside the <pre>\n",
      "Getting script @ http://www.imsdb.com/scripts/Aliens.html.\n",
      "This script is too unstable to parse\n",
      "      Done parsing script at http://www.imsdb.com/scripts/Aliens.html in 2.08439803123\n",
      "-----------------\n",
      "http://www.imsdb.com/scripts/Alone-in-the-Dark.html\n",
      "Getting script @ http://www.imsdb.com/scripts/Alone-in-the-Dark.html.\n",
      "This script is too unstable to parse\n",
      "      Done parsing script at http://www.imsdb.com/scripts/Alone-in-the-Dark.html in 1.8591439724\n",
      "-----------------\n",
      "http://www.imsdb.com/scripts/American-Outlaws.html\n",
      "Found a <pre> inside the <pre>\n",
      "Getting script @ http://www.imsdb.com/scripts/American-Outlaws.html.\n",
      "Found exception list index out of range in parsing.\n",
      "http://www.imsdb.com/scripts/American-Shaolin-King-of-Kickboxers-II.html\n",
      "Getting script @ http://www.imsdb.com/scripts/American-Shaolin-King-of-Kickboxers-II.html.\n",
      "This script is too unstable to parse\n",
      "      Done parsing script at http://www.imsdb.com/scripts/American-Shaolin-King-of-Kickboxers-II.html in 1.78056311607\n",
      "-----------------\n",
      "http://www.imsdb.com/scripts/American-Sniper.html\n",
      "Getting script @ http://www.imsdb.com/scripts/American-Sniper.html.\n",
      "This script is too unstable to parse\n",
      "      Done parsing script at http://www.imsdb.com/scripts/American-Sniper.html in 1.80348420143\n",
      "-----------------\n"
     ]
    }
   ],
   "source": [
    "genre_url='http://www.imsdb.com/genre/Action'\n",
    "scripts_by_genre('action','../data/all_script/action/',15)"
   ]
  },
  {
   "cell_type": "code",
   "execution_count": 3,
   "metadata": {
    "collapsed": false,
    "scrolled": true
   },
   "outputs": [
    {
     "name": "stdout",
     "output_type": "stream",
     "text": [
      "http://www.imsdb.com/scripts/Star-Wars-Revenge-of-the-Sith.html\n",
      "Found exception 'NoneType' object has no attribute 'find' in parsing.\n",
      "http://www.imsdb.com/scripts/Star-Wars-The-Force-Awakens.html\n",
      "Getting script @ http://www.imsdb.com/scripts/Star-Wars-The-Force-Awakens.html.\n",
      "      Done parsing script at http://www.imsdb.com/scripts/Star-Wars-The-Force-Awakens.html in 1.90710115433\n",
      "-----------------\n",
      "----Did not find scriptfile for http://www.imsdb.com/Movie%20Scripts/Batman%20Begins%20Script.html.\n",
      "http://www.imsdb.com/scripts/Collateral.html\n",
      "Found exception 'NoneType' object has no attribute 'find' in parsing.\n",
      "http://www.imsdb.com/scripts/Jackie-Brown.html\n",
      "Found a <pre> inside the <pre>\n",
      "Getting script @ http://www.imsdb.com/scripts/Jackie-Brown.html.\n",
      "      Done parsing script at http://www.imsdb.com/scripts/Jackie-Brown.html in 2.14211010933\n",
      "-----------------\n",
      "http://www.imsdb.com/scripts/10-Things-I-Hate-About-You.html\n",
      "Found a <pre> inside the <pre>\n",
      "Getting script @ http://www.imsdb.com/scripts/10-Things-I-Hate-About-You.html.\n",
      "      Done parsing script at http://www.imsdb.com/scripts/10-Things-I-Hate-About-You.html in 1.84459900856\n",
      "-----------------\n",
      "http://www.imsdb.com/scripts/17-Again.html\n",
      "Getting script @ http://www.imsdb.com/scripts/17-Again.html.\n",
      "This script is too unstable to parse\n",
      "      Done parsing script at http://www.imsdb.com/scripts/17-Again.html in 1.93656992912\n",
      "-----------------\n",
      "http://www.imsdb.com/scripts/500-Days-of-Summer.html\n",
      "Getting script @ http://www.imsdb.com/scripts/500-Days-of-Summer.html.\n",
      "This script is too unstable to parse\n",
      "      Done parsing script at http://www.imsdb.com/scripts/500-Days-of-Summer.html in 1.91754198074\n",
      "-----------------\n",
      "http://www.imsdb.com/scripts/Adjustment-Bureau,-The.html\n",
      "Getting script @ http://www.imsdb.com/scripts/Adjustment-Bureau,-The.html.\n",
      "      Done parsing script at http://www.imsdb.com/scripts/Adjustment-Bureau,-The.html in 1.79620409012\n",
      "-----------------\n",
      "http://www.imsdb.com/scripts/Adventures-of-Buckaroo-Banzai-Across-the-Eighth-Dimension,-The.html\n",
      "Getting script @ http://www.imsdb.com/scripts/Adventures-of-Buckaroo-Banzai-Across-the-Eighth-Dimension,-The.html.\n",
      "Found exception list index out of range in parsing.\n",
      "http://www.imsdb.com/scripts/Airplane.html\n",
      "Getting script @ http://www.imsdb.com/scripts/Airplane.html.\n",
      "      Done parsing script at http://www.imsdb.com/scripts/Airplane.html in 1.91250085831\n",
      "-----------------\n",
      "http://www.imsdb.com/scripts/Almost-Famous.html\n",
      "Found a <pre> inside the <pre>\n",
      "Getting script @ http://www.imsdb.com/scripts/Almost-Famous.html.\n",
      "Found exception list index out of range in parsing.\n",
      "http://www.imsdb.com/scripts/American-President,-The.html\n",
      "Found a <pre> inside the <pre>\n",
      "Getting script @ http://www.imsdb.com/scripts/American-President,-The.html.\n",
      "      Done parsing script at http://www.imsdb.com/scripts/American-President,-The.html in 1.57094311714\n",
      "-----------------\n",
      "http://www.imsdb.com/scripts/American-Werewolf-in-London.html\n",
      "Found a <pre> inside the <pre>\n",
      "Getting script @ http://www.imsdb.com/scripts/American-Werewolf-in-London.html.\n",
      "      Done parsing script at http://www.imsdb.com/scripts/American-Werewolf-in-London.html in 1.35754203796\n",
      "-----------------\n",
      "http://www.imsdb.com/scripts/Amour.html\n",
      "Getting script @ http://www.imsdb.com/scripts/Amour.html.\n",
      "      Done parsing script at http://www.imsdb.com/scripts/Amour.html in 1.50044298172\n",
      "-----------------\n",
      "http://www.imsdb.com/scripts/Angel-Eyes.html\n",
      "Getting script @ http://www.imsdb.com/scripts/Angel-Eyes.html.\n",
      "This script is too unstable to parse\n",
      "      Done parsing script at http://www.imsdb.com/scripts/Angel-Eyes.html in 2.21822118759\n",
      "-----------------\n",
      "http://www.imsdb.com/scripts/Annie-Hall.html\n",
      "Found a <pre> inside the <pre>\n",
      "Getting script @ http://www.imsdb.com/scripts/Annie-Hall.html.\n",
      "      Done parsing script at http://www.imsdb.com/scripts/Annie-Hall.html in 1.61182284355\n",
      "-----------------\n",
      "http://www.imsdb.com/scripts/Artist,-The.html\n",
      "Getting script @ http://www.imsdb.com/scripts/Artist,-The.html.\n",
      "      Done parsing script at http://www.imsdb.com/scripts/Artist,-The.html in 1.50852203369\n",
      "-----------------\n",
      "http://www.imsdb.com/scripts/As-Good-As-It-Gets.html\n",
      "Found a <pre> inside the <pre>\n",
      "Getting script @ http://www.imsdb.com/scripts/As-Good-As-It-Gets.html.\n",
      "      Done parsing script at http://www.imsdb.com/scripts/As-Good-As-It-Gets.html in 1.46436309814\n",
      "-----------------\n",
      "http://www.imsdb.com/scripts/Autumn-in-New-York.html\n",
      "Getting script @ http://www.imsdb.com/scripts/Autumn-in-New-York.html.\n",
      "      Done parsing script at http://www.imsdb.com/scripts/Autumn-in-New-York.html in 1.73526000977\n",
      "-----------------\n"
     ]
    }
   ],
   "source": [
    "genre_url='http://www.imsdb.com/genre/Romance'\n",
    "scripts_by_genre('romance','../data/all_script/romance/',15)"
   ]
  },
  {
   "cell_type": "code",
   "execution_count": null,
   "metadata": {
    "collapsed": true
   },
   "outputs": [],
   "source": []
  },
  {
   "cell_type": "code",
   "execution_count": null,
   "metadata": {
    "collapsed": true
   },
   "outputs": [],
   "source": []
  },
  {
   "cell_type": "code",
   "execution_count": null,
   "metadata": {
    "collapsed": true
   },
   "outputs": [],
   "source": []
  }
 ],
 "metadata": {
  "kernelspec": {
   "display_name": "Python 2",
   "language": "python",
   "name": "python2"
  },
  "language_info": {
   "codemirror_mode": {
    "name": "ipython",
    "version": 2
   },
   "file_extension": ".py",
   "mimetype": "text/x-python",
   "name": "python",
   "nbconvert_exporter": "python",
   "pygments_lexer": "ipython2",
   "version": "2.7.13"
  }
 },
 "nbformat": 4,
 "nbformat_minor": 2
}
